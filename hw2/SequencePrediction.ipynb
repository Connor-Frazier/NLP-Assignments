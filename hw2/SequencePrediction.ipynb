{
  "nbformat": 4,
  "nbformat_minor": 0,
  "metadata": {
    "kernelspec": {
      "name": "python3",
      "display_name": "Python 3"
    },
    "toc": {
      "colors": {
        "hover_highlight": "#DAA520",
        "running_highlight": "#FF0000",
        "selected_highlight": "#FFD700"
      },
      "moveMenuLeft": true,
      "nav_menu": {
        "height": "264px",
        "width": "252px"
      },
      "navigate_menu": true,
      "number_sections": true,
      "sideBar": true,
      "threshold": "5",
      "toc_cell": false,
      "toc_section_display": "block",
      "toc_window_display": false
    },
    "colab": {
      "name": "SequencePrediction.ipynb",
      "provenance": [],
      "collapsed_sections": [],
      "include_colab_link": true
    },
    "accelerator": "GPU",
    "widgets": {
      "application/vnd.jupyter.widget-state+json": {
        "b9cec4647e4b4b3d8d9be533bcc89253": {
          "model_module": "@jupyter-widgets/controls",
          "model_name": "HBoxModel",
          "state": {
            "_view_name": "HBoxView",
            "_dom_classes": [],
            "_model_name": "HBoxModel",
            "_view_module": "@jupyter-widgets/controls",
            "_model_module_version": "1.5.0",
            "_view_count": null,
            "_view_module_version": "1.5.0",
            "box_style": "",
            "layout": "IPY_MODEL_2f2c3372fde34d56933ee8eaa559a4ba",
            "_model_module": "@jupyter-widgets/controls",
            "children": [
              "IPY_MODEL_b97f272e73994287be87b0dd7821f60f",
              "IPY_MODEL_c2f1d9ac5b8a49a3a4b8b99402f94029"
            ]
          }
        },
        "2f2c3372fde34d56933ee8eaa559a4ba": {
          "model_module": "@jupyter-widgets/base",
          "model_name": "LayoutModel",
          "state": {
            "_view_name": "LayoutView",
            "grid_template_rows": null,
            "right": null,
            "justify_content": null,
            "_view_module": "@jupyter-widgets/base",
            "overflow": null,
            "_model_module_version": "1.2.0",
            "_view_count": null,
            "flex_flow": null,
            "width": null,
            "min_width": null,
            "border": null,
            "align_items": null,
            "bottom": null,
            "_model_module": "@jupyter-widgets/base",
            "top": null,
            "grid_column": null,
            "overflow_y": null,
            "overflow_x": null,
            "grid_auto_flow": null,
            "grid_area": null,
            "grid_template_columns": null,
            "flex": null,
            "_model_name": "LayoutModel",
            "justify_items": null,
            "grid_row": null,
            "max_height": null,
            "align_content": null,
            "visibility": null,
            "align_self": null,
            "height": null,
            "min_height": null,
            "padding": null,
            "grid_auto_rows": null,
            "grid_gap": null,
            "max_width": null,
            "order": null,
            "_view_module_version": "1.2.0",
            "grid_template_areas": null,
            "object_position": null,
            "object_fit": null,
            "grid_auto_columns": null,
            "margin": null,
            "display": null,
            "left": null
          }
        },
        "b97f272e73994287be87b0dd7821f60f": {
          "model_module": "@jupyter-widgets/controls",
          "model_name": "IntProgressModel",
          "state": {
            "_view_name": "ProgressView",
            "style": "IPY_MODEL_c746e7f4012d44cc9b31ca50cfe911a1",
            "_dom_classes": [],
            "description": "training routine",
            "_model_name": "IntProgressModel",
            "bar_style": "",
            "max": 100,
            "_view_module": "@jupyter-widgets/controls",
            "_model_module_version": "1.5.0",
            "value": 100,
            "_view_count": null,
            "_view_module_version": "1.5.0",
            "orientation": "horizontal",
            "min": 0,
            "description_tooltip": null,
            "_model_module": "@jupyter-widgets/controls",
            "layout": "IPY_MODEL_981cc2971ef6416090d86c7033d6b240"
          }
        },
        "c2f1d9ac5b8a49a3a4b8b99402f94029": {
          "model_module": "@jupyter-widgets/controls",
          "model_name": "HTMLModel",
          "state": {
            "_view_name": "HTMLView",
            "style": "IPY_MODEL_87c20f0b809f47669c6901cc3a086dc7",
            "_dom_classes": [],
            "description": "",
            "_model_name": "HTMLModel",
            "placeholder": "​",
            "_view_module": "@jupyter-widgets/controls",
            "_model_module_version": "1.5.0",
            "value": "100% 100/100 [04:19&lt;00:00,  2.59s/it, sample1=Muokoif, sample2=Kedmdy]",
            "_view_count": null,
            "_view_module_version": "1.5.0",
            "description_tooltip": null,
            "_model_module": "@jupyter-widgets/controls",
            "layout": "IPY_MODEL_91d94dce2e2e4300af07f3c130f9b5a4"
          }
        },
        "c746e7f4012d44cc9b31ca50cfe911a1": {
          "model_module": "@jupyter-widgets/controls",
          "model_name": "ProgressStyleModel",
          "state": {
            "_view_name": "StyleView",
            "_model_name": "ProgressStyleModel",
            "description_width": "initial",
            "_view_module": "@jupyter-widgets/base",
            "_model_module_version": "1.5.0",
            "_view_count": null,
            "_view_module_version": "1.2.0",
            "bar_color": null,
            "_model_module": "@jupyter-widgets/controls"
          }
        },
        "981cc2971ef6416090d86c7033d6b240": {
          "model_module": "@jupyter-widgets/base",
          "model_name": "LayoutModel",
          "state": {
            "_view_name": "LayoutView",
            "grid_template_rows": null,
            "right": null,
            "justify_content": null,
            "_view_module": "@jupyter-widgets/base",
            "overflow": null,
            "_model_module_version": "1.2.0",
            "_view_count": null,
            "flex_flow": null,
            "width": null,
            "min_width": null,
            "border": null,
            "align_items": null,
            "bottom": null,
            "_model_module": "@jupyter-widgets/base",
            "top": null,
            "grid_column": null,
            "overflow_y": null,
            "overflow_x": null,
            "grid_auto_flow": null,
            "grid_area": null,
            "grid_template_columns": null,
            "flex": null,
            "_model_name": "LayoutModel",
            "justify_items": null,
            "grid_row": null,
            "max_height": null,
            "align_content": null,
            "visibility": null,
            "align_self": null,
            "height": null,
            "min_height": null,
            "padding": null,
            "grid_auto_rows": null,
            "grid_gap": null,
            "max_width": null,
            "order": null,
            "_view_module_version": "1.2.0",
            "grid_template_areas": null,
            "object_position": null,
            "object_fit": null,
            "grid_auto_columns": null,
            "margin": null,
            "display": null,
            "left": null
          }
        },
        "87c20f0b809f47669c6901cc3a086dc7": {
          "model_module": "@jupyter-widgets/controls",
          "model_name": "DescriptionStyleModel",
          "state": {
            "_view_name": "StyleView",
            "_model_name": "DescriptionStyleModel",
            "description_width": "",
            "_view_module": "@jupyter-widgets/base",
            "_model_module_version": "1.5.0",
            "_view_count": null,
            "_view_module_version": "1.2.0",
            "_model_module": "@jupyter-widgets/controls"
          }
        },
        "91d94dce2e2e4300af07f3c130f9b5a4": {
          "model_module": "@jupyter-widgets/base",
          "model_name": "LayoutModel",
          "state": {
            "_view_name": "LayoutView",
            "grid_template_rows": null,
            "right": null,
            "justify_content": null,
            "_view_module": "@jupyter-widgets/base",
            "overflow": null,
            "_model_module_version": "1.2.0",
            "_view_count": null,
            "flex_flow": null,
            "width": null,
            "min_width": null,
            "border": null,
            "align_items": null,
            "bottom": null,
            "_model_module": "@jupyter-widgets/base",
            "top": null,
            "grid_column": null,
            "overflow_y": null,
            "overflow_x": null,
            "grid_auto_flow": null,
            "grid_area": null,
            "grid_template_columns": null,
            "flex": null,
            "_model_name": "LayoutModel",
            "justify_items": null,
            "grid_row": null,
            "max_height": null,
            "align_content": null,
            "visibility": null,
            "align_self": null,
            "height": null,
            "min_height": null,
            "padding": null,
            "grid_auto_rows": null,
            "grid_gap": null,
            "max_width": null,
            "order": null,
            "_view_module_version": "1.2.0",
            "grid_template_areas": null,
            "object_position": null,
            "object_fit": null,
            "grid_auto_columns": null,
            "margin": null,
            "display": null,
            "left": null
          }
        },
        "bf391ac304b549c4879bc2c2dc960201": {
          "model_module": "@jupyter-widgets/controls",
          "model_name": "HBoxModel",
          "state": {
            "_view_name": "HBoxView",
            "_dom_classes": [],
            "_model_name": "HBoxModel",
            "_view_module": "@jupyter-widgets/controls",
            "_model_module_version": "1.5.0",
            "_view_count": null,
            "_view_module_version": "1.5.0",
            "box_style": "",
            "layout": "IPY_MODEL_4ef2e24df43f48339f42dc9833784521",
            "_model_module": "@jupyter-widgets/controls",
            "children": [
              "IPY_MODEL_46c62efb3c4d405b8dc3324c7910ffba",
              "IPY_MODEL_1c822c47d40a4f23b33ae396916d801c"
            ]
          }
        },
        "4ef2e24df43f48339f42dc9833784521": {
          "model_module": "@jupyter-widgets/base",
          "model_name": "LayoutModel",
          "state": {
            "_view_name": "LayoutView",
            "grid_template_rows": null,
            "right": null,
            "justify_content": null,
            "_view_module": "@jupyter-widgets/base",
            "overflow": null,
            "_model_module_version": "1.2.0",
            "_view_count": null,
            "flex_flow": null,
            "width": null,
            "min_width": null,
            "border": null,
            "align_items": null,
            "bottom": null,
            "_model_module": "@jupyter-widgets/base",
            "top": null,
            "grid_column": null,
            "overflow_y": null,
            "overflow_x": null,
            "grid_auto_flow": null,
            "grid_area": null,
            "grid_template_columns": null,
            "flex": null,
            "_model_name": "LayoutModel",
            "justify_items": null,
            "grid_row": null,
            "max_height": null,
            "align_content": null,
            "visibility": null,
            "align_self": null,
            "height": null,
            "min_height": null,
            "padding": null,
            "grid_auto_rows": null,
            "grid_gap": null,
            "max_width": null,
            "order": null,
            "_view_module_version": "1.2.0",
            "grid_template_areas": null,
            "object_position": null,
            "object_fit": null,
            "grid_auto_columns": null,
            "margin": null,
            "display": null,
            "left": null
          }
        },
        "46c62efb3c4d405b8dc3324c7910ffba": {
          "model_module": "@jupyter-widgets/controls",
          "model_name": "IntProgressModel",
          "state": {
            "_view_name": "ProgressView",
            "style": "IPY_MODEL_547a2ae4be10475da08b222deb2b85f9",
            "_dom_classes": [],
            "description": "split=train",
            "_model_name": "IntProgressModel",
            "bar_style": "",
            "max": 60,
            "_view_module": "@jupyter-widgets/controls",
            "_model_module_version": "1.5.0",
            "value": 59,
            "_view_count": null,
            "_view_module_version": "1.5.0",
            "orientation": "horizontal",
            "min": 0,
            "description_tooltip": null,
            "_model_module": "@jupyter-widgets/controls",
            "layout": "IPY_MODEL_325b16112a6542e5bcdb46f83f761979"
          }
        },
        "1c822c47d40a4f23b33ae396916d801c": {
          "model_module": "@jupyter-widgets/controls",
          "model_name": "HTMLModel",
          "state": {
            "_view_name": "HTMLView",
            "style": "IPY_MODEL_4779b05545894ccf95308909e2dcb1da",
            "_dom_classes": [],
            "description": "",
            "_model_name": "HTMLModel",
            "placeholder": "​",
            "_view_module": "@jupyter-widgets/controls",
            "_model_module_version": "1.5.0",
            "value": " 98% 59/60 [04:19&lt;00:04,  4.64s/it, acc=28.6, epoch=99, loss=2.4]",
            "_view_count": null,
            "_view_module_version": "1.5.0",
            "description_tooltip": null,
            "_model_module": "@jupyter-widgets/controls",
            "layout": "IPY_MODEL_b5d13a44ea39403d86a4da3d67db9c1b"
          }
        },
        "547a2ae4be10475da08b222deb2b85f9": {
          "model_module": "@jupyter-widgets/controls",
          "model_name": "ProgressStyleModel",
          "state": {
            "_view_name": "StyleView",
            "_model_name": "ProgressStyleModel",
            "description_width": "initial",
            "_view_module": "@jupyter-widgets/base",
            "_model_module_version": "1.5.0",
            "_view_count": null,
            "_view_module_version": "1.2.0",
            "bar_color": null,
            "_model_module": "@jupyter-widgets/controls"
          }
        },
        "325b16112a6542e5bcdb46f83f761979": {
          "model_module": "@jupyter-widgets/base",
          "model_name": "LayoutModel",
          "state": {
            "_view_name": "LayoutView",
            "grid_template_rows": null,
            "right": null,
            "justify_content": null,
            "_view_module": "@jupyter-widgets/base",
            "overflow": null,
            "_model_module_version": "1.2.0",
            "_view_count": null,
            "flex_flow": null,
            "width": null,
            "min_width": null,
            "border": null,
            "align_items": null,
            "bottom": null,
            "_model_module": "@jupyter-widgets/base",
            "top": null,
            "grid_column": null,
            "overflow_y": null,
            "overflow_x": null,
            "grid_auto_flow": null,
            "grid_area": null,
            "grid_template_columns": null,
            "flex": null,
            "_model_name": "LayoutModel",
            "justify_items": null,
            "grid_row": null,
            "max_height": null,
            "align_content": null,
            "visibility": null,
            "align_self": null,
            "height": null,
            "min_height": null,
            "padding": null,
            "grid_auto_rows": null,
            "grid_gap": null,
            "max_width": null,
            "order": null,
            "_view_module_version": "1.2.0",
            "grid_template_areas": null,
            "object_position": null,
            "object_fit": null,
            "grid_auto_columns": null,
            "margin": null,
            "display": null,
            "left": null
          }
        },
        "4779b05545894ccf95308909e2dcb1da": {
          "model_module": "@jupyter-widgets/controls",
          "model_name": "DescriptionStyleModel",
          "state": {
            "_view_name": "StyleView",
            "_model_name": "DescriptionStyleModel",
            "description_width": "",
            "_view_module": "@jupyter-widgets/base",
            "_model_module_version": "1.5.0",
            "_view_count": null,
            "_view_module_version": "1.2.0",
            "_model_module": "@jupyter-widgets/controls"
          }
        },
        "b5d13a44ea39403d86a4da3d67db9c1b": {
          "model_module": "@jupyter-widgets/base",
          "model_name": "LayoutModel",
          "state": {
            "_view_name": "LayoutView",
            "grid_template_rows": null,
            "right": null,
            "justify_content": null,
            "_view_module": "@jupyter-widgets/base",
            "overflow": null,
            "_model_module_version": "1.2.0",
            "_view_count": null,
            "flex_flow": null,
            "width": null,
            "min_width": null,
            "border": null,
            "align_items": null,
            "bottom": null,
            "_model_module": "@jupyter-widgets/base",
            "top": null,
            "grid_column": null,
            "overflow_y": null,
            "overflow_x": null,
            "grid_auto_flow": null,
            "grid_area": null,
            "grid_template_columns": null,
            "flex": null,
            "_model_name": "LayoutModel",
            "justify_items": null,
            "grid_row": null,
            "max_height": null,
            "align_content": null,
            "visibility": null,
            "align_self": null,
            "height": null,
            "min_height": null,
            "padding": null,
            "grid_auto_rows": null,
            "grid_gap": null,
            "max_width": null,
            "order": null,
            "_view_module_version": "1.2.0",
            "grid_template_areas": null,
            "object_position": null,
            "object_fit": null,
            "grid_auto_columns": null,
            "margin": null,
            "display": null,
            "left": null
          }
        },
        "5dc55f5358ea454a82da641539568492": {
          "model_module": "@jupyter-widgets/controls",
          "model_name": "HBoxModel",
          "state": {
            "_view_name": "HBoxView",
            "_dom_classes": [],
            "_model_name": "HBoxModel",
            "_view_module": "@jupyter-widgets/controls",
            "_model_module_version": "1.5.0",
            "_view_count": null,
            "_view_module_version": "1.5.0",
            "box_style": "",
            "layout": "IPY_MODEL_87620443d49f4649b4379161f60b74a3",
            "_model_module": "@jupyter-widgets/controls",
            "children": [
              "IPY_MODEL_90e53905c1df470f948887332fd9411f",
              "IPY_MODEL_b3cd14010e474a5e9dc35fda9a6772fb"
            ]
          }
        },
        "87620443d49f4649b4379161f60b74a3": {
          "model_module": "@jupyter-widgets/base",
          "model_name": "LayoutModel",
          "state": {
            "_view_name": "LayoutView",
            "grid_template_rows": null,
            "right": null,
            "justify_content": null,
            "_view_module": "@jupyter-widgets/base",
            "overflow": null,
            "_model_module_version": "1.2.0",
            "_view_count": null,
            "flex_flow": null,
            "width": null,
            "min_width": null,
            "border": null,
            "align_items": null,
            "bottom": null,
            "_model_module": "@jupyter-widgets/base",
            "top": null,
            "grid_column": null,
            "overflow_y": null,
            "overflow_x": null,
            "grid_auto_flow": null,
            "grid_area": null,
            "grid_template_columns": null,
            "flex": null,
            "_model_name": "LayoutModel",
            "justify_items": null,
            "grid_row": null,
            "max_height": null,
            "align_content": null,
            "visibility": null,
            "align_self": null,
            "height": null,
            "min_height": null,
            "padding": null,
            "grid_auto_rows": null,
            "grid_gap": null,
            "max_width": null,
            "order": null,
            "_view_module_version": "1.2.0",
            "grid_template_areas": null,
            "object_position": null,
            "object_fit": null,
            "grid_auto_columns": null,
            "margin": null,
            "display": null,
            "left": null
          }
        },
        "90e53905c1df470f948887332fd9411f": {
          "model_module": "@jupyter-widgets/controls",
          "model_name": "IntProgressModel",
          "state": {
            "_view_name": "ProgressView",
            "style": "IPY_MODEL_bbd67346a566430d965b6eb0c699e109",
            "_dom_classes": [],
            "description": "split=val",
            "_model_name": "IntProgressModel",
            "bar_style": "",
            "max": 12,
            "_view_module": "@jupyter-widgets/controls",
            "_model_module_version": "1.5.0",
            "value": 11,
            "_view_count": null,
            "_view_module_version": "1.5.0",
            "orientation": "horizontal",
            "min": 0,
            "description_tooltip": null,
            "_model_module": "@jupyter-widgets/controls",
            "layout": "IPY_MODEL_a7c9c8c6b42d4014ae0e20c4894a97cc"
          }
        },
        "b3cd14010e474a5e9dc35fda9a6772fb": {
          "model_module": "@jupyter-widgets/controls",
          "model_name": "HTMLModel",
          "state": {
            "_view_name": "HTMLView",
            "style": "IPY_MODEL_76986c5a81c54959a0c0f1defcd651bd",
            "_dom_classes": [],
            "description": "",
            "_model_name": "HTMLModel",
            "placeholder": "​",
            "_view_module": "@jupyter-widgets/controls",
            "_model_module_version": "1.5.0",
            "value": " 92% 11/12 [04:19&lt;00:01,  1.03s/it, acc=28, epoch=99, loss=2.43]",
            "_view_count": null,
            "_view_module_version": "1.5.0",
            "description_tooltip": null,
            "_model_module": "@jupyter-widgets/controls",
            "layout": "IPY_MODEL_2dcee103ea01453fb7f431faad97b45b"
          }
        },
        "bbd67346a566430d965b6eb0c699e109": {
          "model_module": "@jupyter-widgets/controls",
          "model_name": "ProgressStyleModel",
          "state": {
            "_view_name": "StyleView",
            "_model_name": "ProgressStyleModel",
            "description_width": "initial",
            "_view_module": "@jupyter-widgets/base",
            "_model_module_version": "1.5.0",
            "_view_count": null,
            "_view_module_version": "1.2.0",
            "bar_color": null,
            "_model_module": "@jupyter-widgets/controls"
          }
        },
        "a7c9c8c6b42d4014ae0e20c4894a97cc": {
          "model_module": "@jupyter-widgets/base",
          "model_name": "LayoutModel",
          "state": {
            "_view_name": "LayoutView",
            "grid_template_rows": null,
            "right": null,
            "justify_content": null,
            "_view_module": "@jupyter-widgets/base",
            "overflow": null,
            "_model_module_version": "1.2.0",
            "_view_count": null,
            "flex_flow": null,
            "width": null,
            "min_width": null,
            "border": null,
            "align_items": null,
            "bottom": null,
            "_model_module": "@jupyter-widgets/base",
            "top": null,
            "grid_column": null,
            "overflow_y": null,
            "overflow_x": null,
            "grid_auto_flow": null,
            "grid_area": null,
            "grid_template_columns": null,
            "flex": null,
            "_model_name": "LayoutModel",
            "justify_items": null,
            "grid_row": null,
            "max_height": null,
            "align_content": null,
            "visibility": null,
            "align_self": null,
            "height": null,
            "min_height": null,
            "padding": null,
            "grid_auto_rows": null,
            "grid_gap": null,
            "max_width": null,
            "order": null,
            "_view_module_version": "1.2.0",
            "grid_template_areas": null,
            "object_position": null,
            "object_fit": null,
            "grid_auto_columns": null,
            "margin": null,
            "display": null,
            "left": null
          }
        },
        "76986c5a81c54959a0c0f1defcd651bd": {
          "model_module": "@jupyter-widgets/controls",
          "model_name": "DescriptionStyleModel",
          "state": {
            "_view_name": "StyleView",
            "_model_name": "DescriptionStyleModel",
            "description_width": "",
            "_view_module": "@jupyter-widgets/base",
            "_model_module_version": "1.5.0",
            "_view_count": null,
            "_view_module_version": "1.2.0",
            "_model_module": "@jupyter-widgets/controls"
          }
        },
        "2dcee103ea01453fb7f431faad97b45b": {
          "model_module": "@jupyter-widgets/base",
          "model_name": "LayoutModel",
          "state": {
            "_view_name": "LayoutView",
            "grid_template_rows": null,
            "right": null,
            "justify_content": null,
            "_view_module": "@jupyter-widgets/base",
            "overflow": null,
            "_model_module_version": "1.2.0",
            "_view_count": null,
            "flex_flow": null,
            "width": null,
            "min_width": null,
            "border": null,
            "align_items": null,
            "bottom": null,
            "_model_module": "@jupyter-widgets/base",
            "top": null,
            "grid_column": null,
            "overflow_y": null,
            "overflow_x": null,
            "grid_auto_flow": null,
            "grid_area": null,
            "grid_template_columns": null,
            "flex": null,
            "_model_name": "LayoutModel",
            "justify_items": null,
            "grid_row": null,
            "max_height": null,
            "align_content": null,
            "visibility": null,
            "align_self": null,
            "height": null,
            "min_height": null,
            "padding": null,
            "grid_auto_rows": null,
            "grid_gap": null,
            "max_width": null,
            "order": null,
            "_view_module_version": "1.2.0",
            "grid_template_areas": null,
            "object_position": null,
            "object_fit": null,
            "grid_auto_columns": null,
            "margin": null,
            "display": null,
            "left": null
          }
        }
      }
    }
  },
  "cells": [
    {
      "cell_type": "markdown",
      "metadata": {
        "id": "view-in-github",
        "colab_type": "text"
      },
      "source": [
        "<a href=\"https://colab.research.google.com/github/NULabTMN/ps2-Connor-Frazier/blob/development/SequencePrediction.ipynb\" target=\"_parent\"><img src=\"https://colab.research.google.com/assets/colab-badge.svg\" alt=\"Open In Colab\"/></a>"
      ]
    },
    {
      "cell_type": "markdown",
      "metadata": {
        "id": "crOQ7QBjhrgV",
        "colab_type": "text"
      },
      "source": [
        "# Sequence Prediction: Surname Generation"
      ]
    },
    {
      "cell_type": "markdown",
      "metadata": {
        "colab_type": "text",
        "id": "a7mWak9NZqsE"
      },
      "source": [
        "In this experiment, you will explore a simple sequence prediction task: Text generation using a Gated Recurrent Unit (GRU). Like the LSTM, this is a  gated recurrent neural network, but since it has fewer parameters, it should be more appropriate for a smaller dataset.\n",
        "\n",
        "The GRU computes a probability distribution over the set of possible characters in the surname vocabulary for each time step. We use these probability distributions to generate new surnames. You are given a starter code, that trains a SurnameGenerationModel on the [surname dataset](https://github.com/jasoriya/CS6120-PS2-support/blob/master/data/surnames/surnames_with_splits.csv) to generate new surnames by learning from the training data. \n",
        "\n"
      ]
    },
    {
      "cell_type": "markdown",
      "metadata": {
        "id": "TJkLtjvSaf5P",
        "colab_type": "text"
      },
      "source": [
        "Your task is to understand this code and plot the over all perplxity of GRU model as a function of the hidden representation size (K) and the number of characters already observed. You will see **TODO** prompts in the following cells"
      ]
    },
    {
      "cell_type": "markdown",
      "metadata": {
        "id": "YEjYmZ5Shrgb",
        "colab_type": "text"
      },
      "source": [
        "## Imports"
      ]
    },
    {
      "cell_type": "code",
      "metadata": {
        "id": "DIbXsKQLhrgd",
        "colab_type": "code",
        "colab": {}
      },
      "source": [
        "import os\n",
        "from argparse import Namespace\n",
        "\n",
        "import numpy as np\n",
        "import httpimport\n",
        "import torch\n",
        "import torch.optim as optim\n",
        "from tqdm import tqdm_notebook\n",
        "import matplotlib.pyplot as plt\n",
        "import pandas as pd\n",
        "\n",
        "#Used below to mount google drive for save directory path\n",
        "# from google.colab import drive\n",
        "# drive.mount('/content/gdrive')\n",
        "\n",
        "# import data preprocessing and modeling functions from https://github.com/jasoriya/CS6120-PS2-support/tree/master/utils\n",
        "with httpimport.remote_repo(['data_vectorization','model','helper'], 'https://raw.githubusercontent.com/jasoriya/CS6120-PS2-support/master/utils/'):\n",
        "  from data_vectorization import Vocabulary, SequenceVocabulary, SurnameVectorizer, SurnameDataset, generate_batches\n",
        "  from model import SurnameGenerationModel, sample_from_model, decode_samples\n",
        "  from helper import make_train_state, update_train_state, normalize_sizes, compute_accuracy, sequence_loss, set_seed_everywhere, handle_dirs\n"
      ],
      "execution_count": 0,
      "outputs": []
    },
    {
      "cell_type": "markdown",
      "metadata": {
        "id": "rwQ3H6hhhrhM",
        "colab_type": "text"
      },
      "source": [
        "### Settings and some prep work\n",
        "\n",
        "**TODO**: \n",
        "- Give path to a directory where the model should be saved\n",
        "- Give hidden state size (`rnn_hidden_size`) for the GRU model (experiment with different levels)\n"
      ]
    },
    {
      "cell_type": "code",
      "metadata": {
        "id": "B6ELbWoHhrhN",
        "colab_type": "code",
        "outputId": "55c10a38-715a-4d23-f9f0-96efa5d17b23",
        "colab": {
          "base_uri": "https://localhost:8080/",
          "height": 85
        }
      },
      "source": [
        "args = Namespace(\n",
        "    # Data and Path information\n",
        "    surname_csv=\"https://raw.githubusercontent.com/jasoriya/CS6120-PS2-support/master/data/surnames/surnames_with_splits.csv\",\n",
        "    vectorizer_file=\"vectorizer.json\",\n",
        "    model_state_file=\"model.pth\",\n",
        "    save_dir= \"gdrive/My Drive/\", # give path here\n",
        "    # Model hyper parameters\n",
        "    char_embedding_size=32,\n",
        "    rnn_hidden_size= 64, # give hidden size, started at 16\n",
        "    # Training hyper parameters\n",
        "    seed=1337,\n",
        "    learning_rate=0.001,\n",
        "    batch_size=128,####\n",
        "    num_epochs=100,\n",
        "    early_stopping_criteria=5,\n",
        "    # Runtime options\n",
        "    catch_keyboard_interrupt=True,\n",
        "    cuda=True,\n",
        "    expand_filepaths_to_save_dir=True,\n",
        "    reload_from_files=False,\n",
        ")\n",
        "\n",
        "if args.expand_filepaths_to_save_dir:\n",
        "    args.vectorizer_file = os.path.join(args.save_dir,\n",
        "                                        args.vectorizer_file)\n",
        "\n",
        "    args.model_state_file = os.path.join(args.save_dir,\n",
        "                                         args.model_state_file)\n",
        "    \n",
        "    print(\"Expanded filepaths: \")\n",
        "    print(\"\\t{}\".format(args.vectorizer_file))\n",
        "    print(\"\\t{}\".format(args.model_state_file))\n",
        "    \n",
        "    \n",
        "# Check CUDA\n",
        "if not torch.cuda.is_available():\n",
        "    args.cuda = False\n",
        "\n",
        "args.device = torch.device(\"cuda\" if args.cuda else \"cpu\")\n",
        "    \n",
        "print(\"Using CUDA: {}\".format(args.cuda))\n",
        "\n",
        "# Set seed for reproducibility\n",
        "set_seed_everywhere(args.seed, args.cuda)\n",
        "\n",
        "# handle dirs\n",
        "handle_dirs(args.save_dir)"
      ],
      "execution_count": 2,
      "outputs": [
        {
          "output_type": "stream",
          "text": [
            "Expanded filepaths: \n",
            "\tgdrive/My Drive/vectorizer.json\n",
            "\tgdrive/My Drive/model.pth\n",
            "Using CUDA: True\n"
          ],
          "name": "stdout"
        }
      ]
    },
    {
      "cell_type": "markdown",
      "metadata": {
        "id": "eK7rHgKPhrhS",
        "colab_type": "text"
      },
      "source": [
        "### Initializations"
      ]
    },
    {
      "cell_type": "code",
      "metadata": {
        "id": "0zdUk04AhrhT",
        "colab_type": "code",
        "colab": {}
      },
      "source": [
        "if args.reload_from_files:\n",
        "    # training from a checkpoint\n",
        "    dataset = SurnameDataset.load_dataset_and_load_vectorizer(args.surname_csv,\n",
        "                                                              args.vectorizer_file)\n",
        "else:\n",
        "    # create dataset and vectorizer\n",
        "    dataset = SurnameDataset.load_dataset_and_make_vectorizer(args.surname_csv)\n",
        "    dataset.save_vectorizer(args.vectorizer_file)\n",
        "\n",
        "vectorizer = dataset.get_vectorizer()\n",
        "\n",
        "model = SurnameGenerationModel(char_embedding_size=args.char_embedding_size,\n",
        "                               char_vocab_size=len(vectorizer.char_vocab),\n",
        "                               rnn_hidden_size=args.rnn_hidden_size,\n",
        "                               padding_idx=vectorizer.char_vocab.mask_index)\n"
      ],
      "execution_count": 0,
      "outputs": []
    },
    {
      "cell_type": "markdown",
      "metadata": {
        "id": "Wy5dwODVhrhX",
        "colab_type": "text"
      },
      "source": [
        "### Training loop"
      ]
    },
    {
      "cell_type": "code",
      "metadata": {
        "code_folding": [],
        "id": "jIr6FBQWhrhY",
        "colab_type": "code",
        "outputId": "d9575fbd-4c44-4cd0-f538-af5136b410d2",
        "colab": {
          "base_uri": "https://localhost:8080/",
          "height": 113,
          "referenced_widgets": [
            "b9cec4647e4b4b3d8d9be533bcc89253",
            "2f2c3372fde34d56933ee8eaa559a4ba",
            "b97f272e73994287be87b0dd7821f60f",
            "c2f1d9ac5b8a49a3a4b8b99402f94029",
            "c746e7f4012d44cc9b31ca50cfe911a1",
            "981cc2971ef6416090d86c7033d6b240",
            "87c20f0b809f47669c6901cc3a086dc7",
            "91d94dce2e2e4300af07f3c130f9b5a4",
            "bf391ac304b549c4879bc2c2dc960201",
            "4ef2e24df43f48339f42dc9833784521",
            "46c62efb3c4d405b8dc3324c7910ffba",
            "1c822c47d40a4f23b33ae396916d801c",
            "547a2ae4be10475da08b222deb2b85f9",
            "325b16112a6542e5bcdb46f83f761979",
            "4779b05545894ccf95308909e2dcb1da",
            "b5d13a44ea39403d86a4da3d67db9c1b",
            "5dc55f5358ea454a82da641539568492",
            "87620443d49f4649b4379161f60b74a3",
            "90e53905c1df470f948887332fd9411f",
            "b3cd14010e474a5e9dc35fda9a6772fb",
            "bbd67346a566430d965b6eb0c699e109",
            "a7c9c8c6b42d4014ae0e20c4894a97cc",
            "76986c5a81c54959a0c0f1defcd651bd",
            "2dcee103ea01453fb7f431faad97b45b"
          ]
        }
      },
      "source": [
        "mask_index = vectorizer.char_vocab.mask_index\n",
        "\n",
        "model = model.to(args.device)\n",
        "\n",
        "\n",
        "optimizer = optim.Adam(model.parameters(), lr=args.learning_rate)\n",
        "scheduler = optim.lr_scheduler.ReduceLROnPlateau(optimizer=optimizer,\n",
        "                                           mode='min', factor=0.5,\n",
        "                                           patience=1)\n",
        "train_state = make_train_state(args)\n",
        "\n",
        "epoch_bar = tqdm_notebook(desc='training routine', \n",
        "                          total=args.num_epochs,\n",
        "                          position=0)\n",
        "dataset.set_split('train')\n",
        "train_bar = tqdm_notebook(desc='split=train',\n",
        "                          total=dataset.get_num_batches(args.batch_size), \n",
        "                          position=1, \n",
        "                          leave=True)\n",
        "dataset.set_split('val')\n",
        "val_bar = tqdm_notebook(desc='split=val',\n",
        "                        total=dataset.get_num_batches(args.batch_size), \n",
        "                        position=1, \n",
        "                        leave=True)\n",
        "\n",
        "try:\n",
        "    for epoch_index in range(args.num_epochs):\n",
        "        train_state['epoch_index'] = epoch_index\n",
        "\n",
        "        # Iterate over training dataset\n",
        "\n",
        "        # setup: batch generator, set loss and acc to 0, set train mode on\n",
        "        dataset.set_split('train')\n",
        "        batch_generator = generate_batches(dataset, \n",
        "                                           batch_size=args.batch_size, \n",
        "                                           device=args.device)\n",
        "        running_loss = 0.0\n",
        "        running_acc = 0.0\n",
        "        model.train()\n",
        "        \n",
        "        for batch_index, batch_dict in enumerate(batch_generator):\n",
        "            # the training routine is these 5 steps:\n",
        "\n",
        "            # --------------------------------------    \n",
        "            # step 1. zero the gradients\n",
        "            optimizer.zero_grad()\n",
        "\n",
        "            # step 2. compute the output\n",
        "            y_pred = model(x_in=batch_dict['x_data'])\n",
        "\n",
        "            # step 3. compute the loss\n",
        "            loss = sequence_loss(y_pred, batch_dict['y_target'], mask_index)\n",
        "\n",
        "\n",
        "            # step 4. use loss to produce gradients\n",
        "            loss.backward()\n",
        "\n",
        "            # step 5. use optimizer to take gradient step\n",
        "            optimizer.step()\n",
        "            # -----------------------------------------\n",
        "            # compute the  running loss and running accuracy\n",
        "            running_loss += (loss.item() - running_loss) / (batch_index + 1)\n",
        "            acc_t = compute_accuracy(y_pred, batch_dict['y_target'], mask_index)\n",
        "            running_acc += (acc_t - running_acc) / (batch_index + 1)\n",
        "\n",
        "            # update bar\n",
        "            train_bar.set_postfix(loss=running_loss,\n",
        "                                  acc=running_acc,\n",
        "                                  epoch=epoch_index)\n",
        "            train_bar.update()\n",
        "\n",
        "        train_state['train_loss'].append(running_loss)\n",
        "        train_state['train_acc'].append(running_acc)\n",
        "\n",
        "        # Iterate over val dataset\n",
        "\n",
        "        # setup: batch generator, set loss and acc to 0; set eval mode on\n",
        "        dataset.set_split('val')\n",
        "        batch_generator = generate_batches(dataset, \n",
        "                                           batch_size=args.batch_size, \n",
        "                                           device=args.device)\n",
        "        running_loss = 0.\n",
        "        running_acc = 0.\n",
        "        model.eval()\n",
        "\n",
        "        for batch_index, batch_dict in enumerate(batch_generator):\n",
        "            # compute the output\n",
        "            y_pred = model(x_in=batch_dict['x_data'])\n",
        "\n",
        "            # step 3. compute the loss\n",
        "            loss = sequence_loss(y_pred, batch_dict['y_target'], mask_index)\n",
        "\n",
        "            # compute the  running loss and running accuracy\n",
        "            running_loss += (loss.item() - running_loss) / (batch_index + 1)\n",
        "            acc_t = compute_accuracy(y_pred, batch_dict['y_target'], mask_index)\n",
        "            running_acc += (acc_t - running_acc) / (batch_index + 1)\n",
        "            \n",
        "            # Update bar\n",
        "            val_bar.set_postfix(loss=running_loss, acc=running_acc, \n",
        "                            epoch=epoch_index)\n",
        "            val_bar.update()\n",
        "\n",
        "        train_state['val_loss'].append(running_loss)\n",
        "        train_state['val_acc'].append(running_acc)\n",
        "\n",
        "        train_state = update_train_state(args=args, model=model, \n",
        "                                         train_state=train_state)\n",
        "\n",
        "        scheduler.step(train_state['val_loss'][-1])\n",
        "\n",
        "        if train_state['stop_early']:\n",
        "            break\n",
        "        \n",
        "        # move model to cpu for sampling\n",
        "        model = model.cpu()\n",
        "        sampled_surnames = decode_samples(\n",
        "            sample_from_model(model, vectorizer, num_samples=2), \n",
        "            vectorizer)\n",
        "        epoch_bar.set_postfix(sample1=sampled_surnames[0], \n",
        "                              sample2=sampled_surnames[1])\n",
        "        # move model back to whichever device it should be on\n",
        "        model = model.to(args.device)\n",
        "        \n",
        "        train_bar.n = 0\n",
        "        val_bar.n = 0\n",
        "        epoch_bar.update()\n",
        "        \n",
        "except KeyboardInterrupt:\n",
        "    print(\"Exiting loop\")"
      ],
      "execution_count": 4,
      "outputs": [
        {
          "output_type": "display_data",
          "data": {
            "application/vnd.jupyter.widget-view+json": {
              "model_id": "b9cec4647e4b4b3d8d9be533bcc89253",
              "version_minor": 0,
              "version_major": 2
            },
            "text/plain": [
              "HBox(children=(IntProgress(value=0, description='training routine', style=ProgressStyle(description_width='ini…"
            ]
          },
          "metadata": {
            "tags": []
          }
        },
        {
          "output_type": "display_data",
          "data": {
            "application/vnd.jupyter.widget-view+json": {
              "model_id": "bf391ac304b549c4879bc2c2dc960201",
              "version_minor": 0,
              "version_major": 2
            },
            "text/plain": [
              "HBox(children=(IntProgress(value=0, description='split=train', max=60, style=ProgressStyle(description_width='…"
            ]
          },
          "metadata": {
            "tags": []
          }
        },
        {
          "output_type": "display_data",
          "data": {
            "application/vnd.jupyter.widget-view+json": {
              "model_id": "5dc55f5358ea454a82da641539568492",
              "version_minor": 0,
              "version_major": 2
            },
            "text/plain": [
              "HBox(children=(IntProgress(value=0, description='split=val', max=12, style=ProgressStyle(description_width='in…"
            ]
          },
          "metadata": {
            "tags": []
          }
        }
      ]
    },
    {
      "cell_type": "code",
      "metadata": {
        "id": "T1pV10L3hrhc",
        "colab_type": "code",
        "outputId": "6d7b68ec-6ac5-47a6-fb50-fd033b8b0821",
        "colab": {
          "base_uri": "https://localhost:8080/",
          "height": 34
        }
      },
      "source": [
        "np.random.choice(np.arange(len(vectorizer.nationality_vocab)), replace=True, size=2)"
      ],
      "execution_count": 5,
      "outputs": [
        {
          "output_type": "execute_result",
          "data": {
            "text/plain": [
              "array([8, 7])"
            ]
          },
          "metadata": {
            "tags": []
          },
          "execution_count": 5
        }
      ]
    },
    {
      "cell_type": "code",
      "metadata": {
        "id": "crgnIUPghrhg",
        "colab_type": "code",
        "colab": {}
      },
      "source": [
        "# compute the loss & accuracy on the test set using the best available model\n",
        "\n",
        "model.load_state_dict(torch.load(train_state['model_filename']))\n",
        "\n",
        "model = model.to(args.device)\n",
        "\n",
        "dataset.set_split('test')\n",
        "batch_generator = generate_batches(dataset, \n",
        "                                   batch_size=args.batch_size, \n",
        "                                   device=args.device)\n",
        "running_acc = 0\n",
        "running_loss = 0\n",
        "model.eval()\n",
        "\n",
        "for batch_index, batch_dict in enumerate(batch_generator):\n",
        "    \n",
        "    # compute the output\n",
        "    y_pred = model(x_in=batch_dict['x_data'])\n",
        "\n",
        "    # compute the loss\n",
        "    loss = sequence_loss(y_pred, batch_dict['y_target'], mask_index)\n",
        "    \n",
        "    running_loss += (loss.item() - running_loss) / (batch_index + 1)\n",
        "  \n",
        "    acc_t = compute_accuracy(y_pred, batch_dict['y_target'], mask_index)\n",
        "    running_acc += (acc_t - running_acc) / (batch_index + 1)\n",
        "\n",
        "train_state['test_loss'] = running_loss \n",
        "train_state['test_acc'] = running_acc "
      ],
      "execution_count": 0,
      "outputs": []
    },
    {
      "cell_type": "markdown",
      "metadata": {
        "id": "ldfJK8jBgbnT",
        "colab_type": "text"
      },
      "source": [
        "**TODO**: Write code to compute the perplexity of the whole text corpus, the accuracy of a character-prediction task, and the perplexity at a given character position (1, 2, 3, ...)."
      ]
    },
    {
      "cell_type": "code",
      "metadata": {
        "id": "yfzssGYjhrhj",
        "colab_type": "code",
        "outputId": "2bd4631b-71b7-4b6d-c7bf-08e790c60ac5",
        "colab": {
          "base_uri": "https://localhost:8080/",
          "height": 68
        }
      },
      "source": [
        "\n",
        "#test perplexity\n",
        "test_perplexity = 2**train_state['test_loss']  \n",
        "\n",
        "print(\"Test loss: {};\".format(train_state['test_loss']))\n",
        "print(\"Test perplexity: {};\".format(test_perplexity)) # compute and print perplexity here\n",
        "print(\"Test Accuracy: {}\".format(train_state['test_acc']))\n",
        "\n",
        "\"\"\"Calculate average accuracies and perplexities for all indicies over the entire test set\"\"\"\n",
        "#Gather the test set surnames and the longest word length in the test set\n",
        "max_word_len = 0\n",
        "test_surnames = []\n",
        "csv = pd.read_csv(args.surname_csv)\n",
        "for index, row in csv.iterrows():\n",
        "    if row['split'] == 'test':\n",
        "      test_surnames.append(row['surname'])\n",
        "      if len(row['surname']) > max_word_len:\n",
        "        max_word_len = len(row['surname'])\n",
        "      \n",
        "#Lists for record keeping\n",
        "index_perplexity_sums = [0 for i in range(max_word_len)]\n",
        "index_perplexity_counts = [0 for i in range(max_word_len)]\n",
        "index_accuracy_sums = [0 for i in range(max_word_len)]\n",
        "index_accuracy_counts = [0 for i in range(max_word_len)]\n",
        "\n",
        "#Loop trhough all the names in the test set\n",
        "for name in test_surnames:\n",
        "  #Create array with token indices for each character in the current name\n",
        "  indices = [vectorizer.char_vocab.begin_seq_index] \n",
        "  indices.extend(vectorizer.char_vocab.lookup_token(token) for token in name)\n",
        "  indices.append(vectorizer.char_vocab.end_seq_index)\n",
        "\n",
        "  #Make a prediciton for each character index in the current name\n",
        "  for i in range(len(name)):\n",
        "    #Create initial x and y vectors\n",
        "    x = np.empty(len(name) + 1, dtype=np.int64)\n",
        "    y = np.empty(len(name) + 1, dtype=np.int64)\n",
        "  \n",
        "    #Create x tensor for the ith character\n",
        "    x_indices = indices[:-(len(name) + 1 - i)]\n",
        "    x[:len(x_indices)] = x_indices\n",
        "    x[len(x_indices):] = vectorizer.char_vocab.mask_index  \n",
        "    x = torch.tensor([x], device=args.device)\n",
        "  \n",
        "    #Get the prediction from the model with the current x tensor\n",
        "    prediction = model(x_in=x)\n",
        "  \n",
        "    #Create y tensor for the ith character\n",
        "    y_indices = indices[1:(i+2)]\n",
        "    y_indices.append(vectorizer.char_vocab.end_seq_index)\n",
        "    y[:len(y_indices)] = y_indices\n",
        "    y[len(y_indices):] = vectorizer.char_vocab.mask_index\n",
        "    y = torch.tensor([y], device=args.device)\n",
        "\n",
        "    #Calculate accuracy for the ith character\n",
        "    acc = compute_accuracy(prediction, y, mask_index)\n",
        "    \n",
        "    #Record data\n",
        "    index_accuracy_sums[i] += acc\n",
        "    index_accuracy_counts[i] += 1\n",
        "\n",
        "    #Calculate loss for the ith character\n",
        "    loss = sequence_loss(prediction, y, mask_index)\n",
        "    loss_number = loss.item()\n",
        "  \n",
        "    #Calculate the perplexity for the ith character\n",
        "    perplexity = 2**loss_number\n",
        "    \n",
        "    #Record data\n",
        "    index_perplexity_sums[i] += perplexity\n",
        "    index_perplexity_counts[i] += 1\n",
        "\n",
        "#Calculate the average character index accuracy and perplexity\n",
        "index_accuracy_averages = [0 for i in range(max_word_len)]\n",
        "index_perplexity_averages = [0 for i in range(max_word_len)]\n",
        "\n",
        "for i in range(max_word_len):\n",
        "  index_accuracy_averages[i] = index_accuracy_sums[i] / index_accuracy_counts[i]\n",
        "  index_perplexity_averages[i] = index_perplexity_sums[i] / index_perplexity_counts[i]\n",
        "\n"
      ],
      "execution_count": 7,
      "outputs": [
        {
          "output_type": "stream",
          "text": [
            "Test loss: 2.4371257424354553;\n",
            "Test perplexity: 5.41561711007573;\n",
            "Test Accuracy: 27.90954373763542\n"
          ],
          "name": "stdout"
        }
      ]
    },
    {
      "cell_type": "markdown",
      "metadata": {
        "id": "2FCywMZ6hrhm",
        "colab_type": "text"
      },
      "source": [
        "## Inference\n",
        "To see the names that the model generates:"
      ]
    },
    {
      "cell_type": "code",
      "metadata": {
        "id": "jTbrH4dBhrho",
        "colab_type": "code",
        "outputId": "0af205ed-4b89-40fc-db04-213d13a96bb8",
        "colab": {
          "base_uri": "https://localhost:8080/",
          "height": 221
        }
      },
      "source": [
        "# number of names to generate\n",
        "num_names = 10\n",
        "model = model.cpu()\n",
        "sampled_surnames = decode_samples(\n",
        "    sample_from_model(model, vectorizer, num_samples=num_names), \n",
        "    vectorizer)\n",
        "\n",
        "print(len(sampled_surnames))\n",
        "# Show results\n",
        "print (\"-\"*15)\n",
        "for i in range(num_names):\n",
        "    print (sampled_surnames[i])"
      ],
      "execution_count": 8,
      "outputs": [
        {
          "output_type": "stream",
          "text": [
            "10\n",
            "---------------\n",
            "Korin\n",
            "Icros\n",
            "Awana\n",
            "Skerdsin\n",
            "Dahnis\n",
            "Tilg\n",
            "Pellaev\n",
            "Riwen\n",
            "Gyuhad\n",
            "Culberto\n"
          ],
          "name": "stdout"
        }
      ]
    },
    {
      "cell_type": "markdown",
      "metadata": {
        "id": "cjgqHfp7ggAj",
        "colab_type": "text"
      },
      "source": [
        "**TODO**: Train the GRU model given above multiple times for different levels of `rnn_hidden_size`. For each of these models, plot the average perplexity as a function of the number of characters of the name observed so far. Explain your observations."
      ]
    },
    {
      "cell_type": "code",
      "metadata": {
        "id": "gsKEX4ylUUFP",
        "colab_type": "code",
        "outputId": "c9e3682a-e4be-46e2-9d76-c23d06c1b8b4",
        "colab": {
          "base_uri": "https://localhost:8080/",
          "height": 1000
        }
      },
      "source": [
        "# Your plotting code here\n",
        "\n",
        "\"\"\"The recorderd data for hidden_rnn_size = 2, 4, 8, 16, 32, 64\"\"\"\n",
        "\n",
        "k2_accuracies = [52.34939759036145, 34.899598393575026, 26.139125151883352, 20.975, 17.439745338790644, 14.929107589657866, 12.915676959619953, 11.334961334961463, 10.24390243902439, 9.201101928374635, 8.585858585858581, 7.692307692307687, 7.142857142857141, 6.666666666666667]\n",
        "k4_accuracies = [28.433734939759034, 26.767068273092548, 30.133657351154312, 25.5, 22.362437471578147, 19.397116644822855, 16.671615201900238, 14.448514448514583, 13.75, 12.396694214876012, 11.48989898989899, 10.256410256410252, 9.285714285714283, 8.88888888888889]\n",
        "k8_accuracies = [16.837349397590362, 20.14056224899586, 22.402794653705953, 22.175, 21.884947703501666, 20.731562015965476, 18.957838479809975, 16.707366707366827, 15.762195121951219, 14.931129476584, 12.373737373737372, 12.051282051282046, 10.714285714285712, 11.111111111111112]\n",
        "k16_accuracies = [5.662650602409639, 15.963855421686642, 17.679222357229648, 19.475, 23.37426102773989, 25.1995710711304, 23.025534441805224, 21.123321123321297, 19.695121951219512, 19.118457300275477, 16.41414141414142, 15.64102564102564, 9.285714285714283, 11.111111111111112]\n",
        "k32_accuracies = [4.307228915662651, 13.674698795180662, 20.352369380315917, 24.6875, 29.07003183265123, 30.060764923150014, 27.197149643705462, 25.234025234025452, 24.878048780487806, 22.148760330578504, 22.474747474747474, 20.256410256410252, 17.857142857142854, 17.77777777777778]\n",
        "k64_accuracies = [4.307228915662651, 13.935742971887482, 15.886998784933171, 20.1125, 24.852205547976354, 28.690575479566014, 26.915083135391924, 25.17297517297537, 26.676829268292682, 25.179063360881567, 24.74747474747475, 24.61538461538462, 18.571428571428566, 28.88888888888889]\n",
        "\n",
        "k2_perplexity = [9.402114234086088, 8.40001172816427, 8.685885535294247, 8.839263323787213, 8.867819695415983, 8.881199014680107, 8.952682838544074, 9.09554625887192, 9.053430400779018, 9.222411123413144, 9.438375404138345, 9.41612302902145, 9.55026240944353, 9.203840436999998]\n",
        "k4_perplexity = [11.873854110817026, 8.262722679065181, 7.482913316926316, 7.58478425907849, 7.621175544037211, 7.735425895712919, 7.926639766728447, 8.121562728140637, 8.163210736133001, 8.345179438918509, 8.70754511724805, 8.777731253318425, 9.056242506294332, 8.431225261690821]\n",
        "k8_perplexity = [12.462404375470774, 7.986996063286865, 7.2619340002367245, 7.188517038183721, 7.0560418785454, 7.090512229033919, 7.133303180838415, 7.271216727718264, 7.440193727990158, 7.739694840167098, 8.037391847631296, 8.264721628070317, 8.791596642269612, 7.586216277429576]\n",
        "k16_perplexity = [15.48115582435773, 9.43732401907229, 7.595424622922445, 7.062072266127846, 6.692276000576281, 6.456837247503778, 6.499272512073023, 6.693546596893835, 6.863594457572101, 7.00061314173073, 7.457165759461085, 7.56624379927665, 8.28054725185749, 7.524892744869742]\n",
        "k32_perplexity = [23.374543500445615, 9.717808617455791, 7.009146030085884, 6.294128753581898, 5.916930618301128, 5.789589476000539, 5.862179446724023, 5.990646546504146, 6.163566587457043, 6.346616520064328, 6.612382203519056, 7.166702837747355, 7.422342383659924, 6.3918597130466]\n",
        "k64_perplexity = [22.65385711883097, 11.38763106976892, 7.621538852725991, 6.448411260862909, 6.020546137397779, 5.711831891311322, 5.794164489743802, 5.838008812295406, 5.851511424002029, 5.94888038435698, 6.267671136904797, 6.460597335241798, 7.1912164856426255, 5.610276058840817]\n",
        "\n",
        "\n",
        "\"\"\"Plot the character accuracy and perplexity over the character indices\"\"\"\n",
        "x_axis_indices = []\n",
        "for i in range(max_word_len):\n",
        "  x_axis_indices.append(i)\n",
        "\n",
        "plt.figure(figsize=(15,15))\n",
        "plt.subplot(411)\n",
        "plt.title('Accuracy VS. Character Index')\n",
        "accuracies_line_k2 = plt.plot(x_axis_indices, k2_accuracies, label=\"Accuracy k = 2\")\n",
        "accuracies_line_k4 = plt.plot(x_axis_indices, k4_accuracies, label=\"Accuracy k = 4\")\n",
        "accuracies_line_k8 = plt.plot(x_axis_indices, k8_accuracies, label=\"Accuracy k = 8\")\n",
        "plt.xticks(np.arange(min(x_axis_indices), max(x_indices) - 1, 1.0))\n",
        "plt.legend()\n",
        "plt.ylabel('Accuracy')\n",
        "plt.xlabel('Character Index')\n",
        "\n",
        "plt.subplot(412)\n",
        "plt.title('Accuracy VS. Character Index 2')\n",
        "accuracies_line_k16 = plt.plot(x_axis_indices, k16_accuracies, label=\"Accuracy k = 16\")\n",
        "accuracies_line_k32 = plt.plot(x_axis_indices, k32_accuracies, label=\"Accuracy k = 32\")\n",
        "accuracies_line_k64 = plt.plot(x_axis_indices, k64_accuracies, label=\"Accuracy k = 64\")\n",
        "plt.xticks(np.arange(min(x_axis_indices), max(x_indices) - 1, 5.0))\n",
        "plt.legend()\n",
        "plt.ylabel('Accuracy')\n",
        "plt.xlabel('Character Index')\n",
        "\n",
        "plt.subplot(413)\n",
        "plt.title('Perplexity VS. Character Index')\n",
        "perplexity_line_k2 = plt.plot(x_axis_indices, k2_perplexity, label=\"Perplexity k = 2\")\n",
        "perplexity_line_k4 = plt.plot(x_axis_indices, k4_perplexity, label=\"Perplexity k = 4\")\n",
        "perplexity_line_k8 = plt.plot(x_axis_indices, k8_perplexity, label=\"Perplexity k = 8\")\n",
        "plt.xticks(np.arange(min(x_axis_indices), max(x_indices) - 1, 5.0))\n",
        "plt.legend()\n",
        "plt.ylabel('Perplexity')\n",
        "plt.xlabel('Character Index')\n",
        "\n",
        "plt.subplot(414)\n",
        "plt.title('Perplexity VS. Character Index 2')\n",
        "perplexity_line_k16 = plt.plot(x_axis_indices, k16_perplexity, label=\"Perplexity k = 16\")\n",
        "perplexity_line_k32 = plt.plot(x_axis_indices, k32_perplexity, label=\"Perplexity k = 32\")\n",
        "perplexity_line_k64 = plt.plot(x_axis_indices, k64_perplexity, label=\"Perplexity k = 64\")\n",
        "plt.xticks(np.arange(min(x_axis_indices), max(x_indices) - 1, 5.0))\n",
        "plt.legend()\n",
        "plt.ylabel('Perplexity')\n",
        "plt.xlabel('Character Index')\n",
        "\n",
        "plt.tight_layout(pad=2.0)\n",
        "plt.show()"
      ],
      "execution_count": 9,
      "outputs": [
        {
          "output_type": "display_data",
          "data": {
            "image/png": "[encoded data removed]",
            "text/plain": [
              "<Figure size 1080x1080 with 4 Axes>"
            ]
          },
          "metadata": {
            "tags": []
          }
        }
      ]
    },
    {
      "cell_type": "markdown",
      "metadata": {
        "id": "G45UnGUBnSUd",
        "colab_type": "text"
      },
      "source": [
        "Implementation:\n",
        "\n",
        "The test set perplexity is calcualted by raising 2 to the power of the test loss.\n",
        "\n",
        "To get the average perplexity at each character index over the entire test set; first the test set words are gathered into a single list. Then for each word, an x vector and y vector are created for every character in the word. The model is used to make each prediction for every character in the word, and the associated accuracy, loss, and perplexity are calculated for the chracter index. To get the average perplexity and accuracy at each character index, the respective sum of perplexities and accuracies of predictions at the ith character are divided by the number of predictions at made at the ith character.\n",
        "\n",
        "The graphs are created from multiple runs of the model with different values of hidden_rnn_size. The accuracies and perplexities were saved manually in lists to then be graphed after all of the runs. The graphs have 14 characters of context because the longest surname in the test set is 14 characters long.\n",
        "\n",
        "\n",
        "Observations:\n",
        "\n",
        "Accuracy:\n",
        "The accuracy did not increase with the hidden_rnn_size as expected. I thought that the accuracy would increase for all characters as the hidden state size grew but that was not the case. As the hidden state size gets smaller, the accuracy of predictions with little to no context increases while the accuracy of predictions with more context decreseases. As the hidden state size gets larger, the accuracy of predictions with little to no context decreases while the accuracy of predictions with more context increases.\n",
        "\n",
        "Perplexity:\n",
        "The perplexity data was as expected. Generally, the perplexity at each character index did decrease as the context increased for all values of hidden_rnn_size. As the hidden_rnn_size increased the rate of decrease in perplexity increased, and the perplexity values at higher contexts were also smaller verall. One odd finding is that with lower hidden_rnn_size values, the perplexity at higher context levels starts to slightly increase.\n",
        "\n",
        "With these results, it is apparent that the hidden state representation size is very important when modeling character level predictions. The hidden state size appears to control the ability to abilty to make predictions at certain amounts of contexts provided in the word. Smaller hidden state size models do best in the begining the of the word while bigger hidden state size models do better in the middle or at the end of a word. This suggests that for practical uses like text autocomplete it may be best to use to a model with a small hidden state size for character contexts of less than three and another model with a bigger hidden state size for larger amounts of context. Based off these results there appears to be no one hidden state size that is best for all amounts of context preovided.\n",
        "\n",
        "\n"
      ]
    }
  ]
}