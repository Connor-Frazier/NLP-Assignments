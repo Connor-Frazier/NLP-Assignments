{
 "cells": [
  {
   "cell_type": "markdown",
   "metadata": {
    "colab_type": "text",
    "id": "view-in-github"
   },
   "source": [
    "<a href=\"https://colab.research.google.com/github/NULabTMN/ps4-Connor-Frazier/blob/dev/CrossLanguageEmbeddings.ipynb\" target=\"_parent\"><img src=\"https://colab.research.google.com/assets/colab-badge.svg\" alt=\"Open In Colab\"/></a>"
   ]
  },
  {
   "cell_type": "markdown",
   "metadata": {
    "colab_type": "text",
    "id": "oDsn_Motja8Q"
   },
   "source": [
    "# Cross-Language Word Embeddings\n",
    "\n",
    "We have mentioned, and will discuss in more detail this week, how we can reduce the dimensionality of word representations from their original vectors space to an embedding space on the order of a few hundred dimensions. Different modeling choices for word embeddings may be ultimately evaluated by the effectiveness of classifiers, parsers, and other inference models that use those embeddings.\n",
    "\n",
    "In this assignment, however, we will consider another common method of evaluating word embeddings: by judging the usefulness of pairwise distances between words in the embedding space.\n",
    "\n",
    "Follow along with the examples in this notebook, and implement the sections of code flagged with **TODO**."
   ]
  },
  {
   "cell_type": "code",
   "execution_count": 8,
   "metadata": {
    "colab": {},
    "colab_type": "code",
    "id": "UKm5cPMQ2xHU"
   },
   "outputs": [],
   "source": [
    "import gensim\n",
    "import math\n",
    "import numpy as np\n",
    "from gensim.test.utils import datapath, get_tmpfile\n",
    "from gensim.models import Word2Vec\n",
    "from gensim.models.word2vec import LineSentence"
   ]
  },
  {
   "cell_type": "markdown",
   "metadata": {
    "colab_type": "text",
    "id": "sfKjYFDklB4c"
   },
   "source": [
    "We'll start by downloading a plain-text version of the Shakespeare plays we used for the first assignment."
   ]
  },
  {
   "cell_type": "code",
   "execution_count": 9,
   "metadata": {
    "colab": {
     "base_uri": "https://localhost:8080/",
     "height": 204
    },
    "colab_type": "code",
    "id": "Dw3bvl1yf5FB",
    "outputId": "48cc0370-9233-409f-e84e-1b280e780327"
   },
   "outputs": [
    {
     "name": "stdout",
     "output_type": "stream",
     "text": [
      "--2020-04-18 09:48:25--  http://www.ccs.neu.edu/home/dasmith/courses/cs6120/shakespeare_plays.txt\n",
      "Resolving www.ccs.neu.edu (www.ccs.neu.edu)... 52.70.229.197\n",
      "Connecting to www.ccs.neu.edu (www.ccs.neu.edu)|52.70.229.197|:80... connected.\n",
      "HTTP request sent, awaiting response... 200 OK\n",
      "Length: 4746840 (4.5M) [text/plain]\n",
      "Saving to: ‘shakespeare_plays.txt.4’\n",
      "\n",
      "shakespeare_plays.t 100%[===================>]   4.53M  15.3MB/s    in 0.3s    \n",
      "\n",
      "2020-04-18 09:48:26 (15.3 MB/s) - ‘shakespeare_plays.txt.4’ saved [4746840/4746840]\n",
      "\n"
     ]
    }
   ],
   "source": [
    "!wget http://www.ccs.neu.edu/home/dasmith/courses/cs6120/shakespeare_plays.txt\n",
    "lines = [s.split() for s in open('shakespeare_plays.txt')]"
   ]
  },
  {
   "cell_type": "markdown",
   "metadata": {
    "colab_type": "text",
    "id": "5cZ52pEflKKM"
   },
   "source": [
    "Then, we'll estimate a simple word2vec model on the Shakespeare texts."
   ]
  },
  {
   "cell_type": "code",
   "execution_count": null,
   "metadata": {
    "colab": {},
    "colab_type": "code",
    "id": "eXT5BNPs_zjM"
   },
   "outputs": [],
   "source": [
    "model = Word2Vec(lines)"
   ]
  },
  {
   "cell_type": "markdown",
   "metadata": {
    "colab_type": "text",
    "id": "Fzt3lG1-lw33"
   },
   "source": [
    "Even with such a small training set size, you can perform some standard analogy tasks."
   ]
  },
  {
   "cell_type": "code",
   "execution_count": null,
   "metadata": {
    "colab": {
     "base_uri": "https://localhost:8080/",
     "height": 241
    },
    "colab_type": "code",
    "id": "i4ruAqhKC3-R",
    "outputId": "280fe4f4-97a0-483e-fe1c-577415d8629c"
   },
   "outputs": [],
   "source": [
    "model.wv.most_similar(positive=['king','woman'], negative=['man'])"
   ]
  },
  {
   "cell_type": "markdown",
   "metadata": {
    "colab_type": "text",
    "id": "AJL45y5emjA9"
   },
   "source": [
    "For the rest of this assignment, we will focus on finding words with similar embeddings, both within and across languages. For example, what words are similar to the name of the title character of *Othello*?"
   ]
  },
  {
   "cell_type": "code",
   "execution_count": null,
   "metadata": {
    "colab": {
     "base_uri": "https://localhost:8080/",
     "height": 241
    },
    "colab_type": "code",
    "id": "1EZGroU0KPyj",
    "outputId": "afaf53b0-d522-4c05-eadc-2e2943472259"
   },
   "outputs": [],
   "source": [
    "model.wv.most_similar(positive=['othello'])\n",
    "#model.wv.most_similar(positive=['brutus'])"
   ]
  },
  {
   "cell_type": "markdown",
   "metadata": {
    "colab_type": "text",
    "id": "UM2BT_7zZle3"
   },
   "source": [
    "This search uses cosine similarity. In the default API, you should see the same similarity between the words `othello` and `desdemona` as in the search results above."
   ]
  },
  {
   "cell_type": "code",
   "execution_count": null,
   "metadata": {
    "colab": {
     "base_uri": "https://localhost:8080/",
     "height": 88
    },
    "colab_type": "code",
    "id": "-e32-u4zYFda",
    "outputId": "69dfc6f0-8300-4f35-c009-2d09d06058ce"
   },
   "outputs": [],
   "source": [
    "model.wv.similarity('othello', 'desdemona')"
   ]
  },
  {
   "cell_type": "markdown",
   "metadata": {
    "colab_type": "text",
    "id": "c49DwfAmZ6PU"
   },
   "source": [
    "**TODO**: Your **first task** therefore is to implement your own cosine similarity function so that you can reuse it outside of the context of the gensim model object."
   ]
  },
  {
   "cell_type": "code",
   "execution_count": null,
   "metadata": {
    "colab": {
     "base_uri": "https://localhost:8080/",
     "height": 34
    },
    "colab_type": "code",
    "id": "rEj2PqpuZ5xs",
    "outputId": "eeb2009e-f2d6-43e9-b730-1e9bf65e7a4d"
   },
   "outputs": [],
   "source": [
    "## TODO: Implement cosim\n",
    "def cosim(v1, v2):\n",
    "    # Initialize Variables for calculation\n",
    "    numerator = 0\n",
    "    first_vector_denominator = 0\n",
    "    second_vector_denominator = 0\n",
    "    \n",
    "    # Loop through each number in both vectors, and gather the numbers needed\n",
    "    for i in range(len(v1)):\n",
    "        numerator += v1[i]*v2[i]\n",
    "        first_vector_denominator += v1[i]**2\n",
    "        second_vector_denominator += v2[i]**2\n",
    "                          \n",
    "    # return cosine similarity between v1 and v2\n",
    "    return numerator / (math.sqrt(first_vector_denominator)*math.sqrt(second_vector_denominator))\n",
    "\n",
    "## This should give a result similar to model.wv.similarity:\n",
    "cosim(model.wv['othello'], model.wv['desdemona'])"
   ]
  },
  {
   "cell_type": "markdown",
   "metadata": {
    "colab_type": "text",
    "id": "3TbDqBIHbHfB"
   },
   "source": [
    "## Evaluation\n",
    "\n",
    "We could collect a lot of human judgments about how similar pairs of words, or pairs of Shakespearean characters, are. Then we could compare different word-embedding models by their ability to replicate these human judgments.\n",
    "\n",
    "If we extend our ambition to multiple languages, however, we can use a word translation task to evaluate word embeddings.\n",
    "\n",
    "We will use a subset of [Facebook AI's FastText cross-language embeddings](https://fasttext.cc/docs/en/aligned-vectors.html) for several languages. Your task will be to compare English both to French, and to *one more language* from the following set: Arabic, German, Portuguese, Russian, Spanish, Vietnamese, and Chinese."
   ]
  },
  {
   "cell_type": "code",
   "execution_count": 19,
   "metadata": {
    "colab": {
     "base_uri": "https://localhost:8080/",
     "height": 578
    },
    "colab_type": "code",
    "id": "FC_FXRnfq1BO",
    "outputId": "09c5c51f-3381-4b5f-f02c-b2ecdb8e354d"
   },
   "outputs": [
    {
     "name": "stdout",
     "output_type": "stream",
     "text": [
      "--2020-04-18 10:06:22--  http://www.ccs.neu.edu/home/dasmith/courses/cs6120/30k.en.vec\n",
      "Resolving www.ccs.neu.edu (www.ccs.neu.edu)... 52.70.229.197\n",
      "Connecting to www.ccs.neu.edu (www.ccs.neu.edu)|52.70.229.197|:80... connected.\n",
      "HTTP request sent, awaiting response... 200 OK\n",
      "Length: 67681172 (65M)\n",
      "Saving to: ‘30k.en.vec.3’\n",
      "\n",
      "30k.en.vec.3        100%[===================>]  64.54M  28.1MB/s    in 2.3s    \n",
      "\n",
      "2020-04-18 10:06:25 (28.1 MB/s) - ‘30k.en.vec.3’ saved [67681172/67681172]\n",
      "\n",
      "--2020-04-18 10:06:25--  http://www.ccs.neu.edu/home/dasmith/courses/cs6120/30k.fr.vec\n",
      "Resolving www.ccs.neu.edu (www.ccs.neu.edu)... 52.70.229.197\n",
      "Connecting to www.ccs.neu.edu (www.ccs.neu.edu)|52.70.229.197|:80... connected.\n",
      "HTTP request sent, awaiting response... 200 OK\n",
      "Length: 67802327 (65M)\n",
      "Saving to: ‘30k.fr.vec.3’\n",
      "\n",
      "30k.fr.vec.3        100%[===================>]  64.66M  32.2MB/s    in 2.0s    \n",
      "\n",
      "2020-04-18 10:06:27 (32.2 MB/s) - ‘30k.fr.vec.3’ saved [67802327/67802327]\n",
      "\n",
      "--2020-04-18 10:06:27--  http://www.ccs.neu.edu/home/dasmith/courses/cs6120/30k.es.vec\n",
      "Resolving www.ccs.neu.edu (www.ccs.neu.edu)... 52.70.229.197\n",
      "Connecting to www.ccs.neu.edu (www.ccs.neu.edu)|52.70.229.197|:80... connected.\n",
      "HTTP request sent, awaiting response... 200 OK\n",
      "Length: 67762853 (65M) [application/ecmascript]\n",
      "Saving to: ‘30k.es.vec.3’\n",
      "\n",
      "30k.es.vec.3        100%[===================>]  64.62M  29.8MB/s    in 2.2s    \n",
      "\n",
      "2020-04-18 10:06:29 (29.8 MB/s) - ‘30k.es.vec.3’ saved [67762853/67762853]\n",
      "\n"
     ]
    }
   ],
   "source": [
    "!wget http://www.ccs.neu.edu/home/dasmith/courses/cs6120/30k.en.vec\n",
    "!wget http://www.ccs.neu.edu/home/dasmith/courses/cs6120/30k.fr.vec\n",
    "\n",
    "# TODO: uncomment at least one of these\n",
    "# !wget http://www.ccs.neu.edu/home/dasmith/courses/cs6120/30k.ar.vec\n",
    "# !wget http://www.ccs.neu.edu/home/dasmith/courses/cs6120/30k.de.vec\n",
    "# !wget http://www.ccs.neu.edu/home/dasmith/courses/cs6120/30k.pt.vec\n",
    "# !wget http://www.ccs.neu.edu/home/dasmith/courses/cs6120/30k.ru.vec\n",
    "!wget http://www.ccs.neu.edu/home/dasmith/courses/cs6120/30k.es.vec\n",
    "# !wget http://www.ccs.neu.edu/home/dasmith/courses/cs6120/30k.vi.vec\n",
    "# !wget http://www.ccs.neu.edu/home/dasmith/courses/cs6120/30k.zh.vec"
   ]
  },
  {
   "cell_type": "markdown",
   "metadata": {
    "colab_type": "text",
    "id": "nmuIvGpNrJPe"
   },
   "source": [
    "We'll start by loading the word vectors from their textual file format to a dictionary mapping words to numpy arrays."
   ]
  },
  {
   "cell_type": "code",
   "execution_count": 20,
   "metadata": {
    "colab": {},
    "colab_type": "code",
    "id": "VbWORXkP2Vvn"
   },
   "outputs": [],
   "source": [
    "def vecref(s):\n",
    "  (word, srec) = s.split(' ', 1)\n",
    "  return (word, np.fromstring(srec, sep=' '))\n",
    "\n",
    "def ftvectors(fname):\n",
    "  return { k:v for (k, v) in [vecref(s) for s in open(fname)] if len(v) > 1} \n",
    "\n",
    "envec = ftvectors('30k.en.vec')\n",
    "frvec = ftvectors('30k.fr.vec')\n",
    "\n",
    "# TODO: load vectors for one more language, such as zhvec\n",
    "# arvec = ftvectors('30k.ar.vec')\n",
    "# devec = ftvectors('30k.de.vec')\n",
    "# ptvec = ftvectors('30k.pt.vec')\n",
    "# ruvec = ftvectors('30k.ru.vec')\n",
    "esvec = ftvectors('30k.es.vec')\n",
    "# vivec = ftvectors('30k.vi.vec')\n",
    "# zhvec = ftvectors('30k.zh.vec')"
   ]
  },
  {
   "cell_type": "markdown",
   "metadata": {
    "colab_type": "text",
    "id": "j88E1JdueZHc"
   },
   "source": [
    "**TODO**: Your next task is to write a simple function that takes a vector and a dictionary of vectors and finds the most similar item in the dictionary. For this assignment, a linear scan through the dictionary using your `cosim` function from above is acceptible."
   ]
  },
  {
   "cell_type": "code",
   "execution_count": 21,
   "metadata": {
    "colab": {
     "base_uri": "https://localhost:8080/",
     "height": 102
    },
    "colab_type": "code",
    "id": "gmdirYOjoSWV",
    "outputId": "13a8d9b2-dc33-4967-b651-f79eb71076f4"
   },
   "outputs": [
    {
     "data": {
      "text/plain": [
       "[('informatique', 0.5023827767603765),\n",
       " ('allemagne', 0.5937184138759639),\n",
       " ('matrice', 0.5088361302065518),\n",
       " ('physique', 0.45555434347963936),\n",
       " ('fermentation', 0.3504105196166512)]"
      ]
     },
     "execution_count": 21,
     "metadata": {},
     "output_type": "execute_result"
    }
   ],
   "source": [
    "## TODO: implement this search function\n",
    "def mostSimilar(vec, vecDict):\n",
    "  # Variables to hold most similar word and score  \n",
    "  mostSimilar = ''\n",
    "  similarity = 0\n",
    "\n",
    "  # Loop through all of the word vectors in the dictionary\n",
    "  for key,value in vecDict.items():\n",
    "    \n",
    "    # Get the similarity for the current vector and vec\n",
    "    current_similarity = cosim(vec, value)\n",
    "    \n",
    "    # Update the most similar word and score if the current one has a higher score\n",
    "    if current_similarity > similarity:\n",
    "      similarity = current_similarity\n",
    "      mostSimilar = key\n",
    "        \n",
    "  # Return the most similar word and score      \n",
    "  return (mostSimilar, similarity)\n",
    "\n",
    "## some example searches\n",
    "[mostSimilar(envec[e], frvec) for e in ['computer', 'germany', 'matrix', 'physics', 'yeast']]"
   ]
  },
  {
   "cell_type": "markdown",
   "metadata": {
    "colab_type": "text",
    "id": "NIKUD5qxpUMB"
   },
   "source": [
    "Some matches make more sense than others. Note that `computer` most closely matches `informatique`, the French term for *computer science*. If you looked further down the list, you would see `ordinateur`, the term for *computer*. This is one weakness of a focus only on embeddings for word *types* independent of context.\n",
    "\n",
    "To evalute cross-language embeddings more broadly, we'll look at a dataset of links between Wikipedia articles."
   ]
  },
  {
   "cell_type": "code",
   "execution_count": 22,
   "metadata": {
    "colab": {
     "base_uri": "https://localhost:8080/",
     "height": 204
    },
    "colab_type": "code",
    "id": "az10sIFwsEUP",
    "outputId": "80c0ba3f-6030-4de8-f3e1-6da1c3e34ec4"
   },
   "outputs": [
    {
     "name": "stdout",
     "output_type": "stream",
     "text": [
      "--2020-04-18 10:07:44--  http://www.ccs.neu.edu/home/dasmith/courses/cs6120/links.tab\n",
      "Resolving www.ccs.neu.edu (www.ccs.neu.edu)... 52.70.229.197\n",
      "Connecting to www.ccs.neu.edu (www.ccs.neu.edu)|52.70.229.197|:80... connected.\n",
      "HTTP request sent, awaiting response... 200 OK\n",
      "Length: 1408915 (1.3M)\n",
      "Saving to: ‘links.tab.4’\n",
      "\n",
      "links.tab.4         100%[===================>]   1.34M  6.69MB/s    in 0.2s    \n",
      "\n",
      "2020-04-18 10:07:44 (6.69 MB/s) - ‘links.tab.4’ saved [1408915/1408915]\n",
      "\n"
     ]
    }
   ],
   "source": [
    "!wget http://www.ccs.neu.edu/home/dasmith/courses/cs6120/links.tab\n",
    "links = [s.split() for s in open('links.tab')]"
   ]
  },
  {
   "cell_type": "markdown",
   "metadata": {
    "colab_type": "text",
    "id": "sqHq0hFCv8NY"
   },
   "source": [
    "This `links` variable consists of triples of `(English term, language, term in that language)`. For example, here is the link between English `academy` and French `académie`:"
   ]
  },
  {
   "cell_type": "code",
   "execution_count": 23,
   "metadata": {
    "colab": {
     "base_uri": "https://localhost:8080/",
     "height": 34
    },
    "colab_type": "code",
    "id": "RQ7eusdxtdsq",
    "outputId": "a42a16c4-4f9e-4f80-8346-d7f134a0f73b"
   },
   "outputs": [
    {
     "data": {
      "text/plain": [
       "['academy', 'fr', 'académie']"
      ]
     },
     "execution_count": 23,
     "metadata": {},
     "output_type": "execute_result"
    }
   ],
   "source": [
    "links[302]"
   ]
  },
  {
   "cell_type": "markdown",
   "metadata": {
    "colab_type": "text",
    "id": "bYEdOQbmwql3"
   },
   "source": [
    "**TODO**: Evaluate the English and French embeddings by computing the proportion of English Wikipedia articles whose corresponding French article is also the closest word in embedding space. Skip English articles not covered by the word embedding dictionary. Since many articles, e.g., about named entities have the same title in English and French, compute the baseline accuracy achieved by simply echoing the English title as if it were French. Remember to iterate only over English Wikipedia articles, not the entire embedding dictionary."
   ]
  },
  {
   "cell_type": "code",
   "execution_count": 25,
   "metadata": {
    "colab": {
     "base_uri": "https://localhost:8080/",
     "height": 392
    },
    "colab_type": "code",
    "id": "RJrTJ3ja91Z4",
    "outputId": "ec5ef1e9-04cb-4993-ca23-65a78302884c"
   },
   "outputs": [
    {
     "name": "stdout",
     "output_type": "stream",
     "text": [
      "Baseline Accuracy: 0.6742324450298915\n",
      "Accuracy: 0.5359205593271862\n"
     ]
    }
   ],
   "source": [
    "## TODO: Compute English-French Wikipedia retrieval accuracy.\n",
    "\n",
    "#Initialize the accuracy variables\n",
    "accuracy = 0\n",
    "baselineAccuracy = 0\n",
    "\n",
    "#Initialize variables to calulate the baseline accuracy\n",
    "baseline_correct = 0\n",
    "baseline_total = 0\n",
    "\n",
    "# Loop through all of the french links\n",
    "for link in links:\n",
    "    if link[1] == 'fr':\n",
    "        baseline_total += 1\n",
    "        \n",
    "        # Add one to the baseline correct if the english title is the same as the french title\n",
    "        if link[0] == link[2]:\n",
    "            baseline_correct += 1\n",
    "\n",
    "# Calculate the baseline accuracy\n",
    "baseline_accuracy = baseline_correct / baseline_total\n",
    "\n",
    "#Initialize variables to calulate the accuracy\n",
    "correct = 0\n",
    "total = 0\n",
    "\n",
    "# Loop through all of the english-french links that are in the english embeddings\n",
    "for link in links:\n",
    "    if link[1] == 'fr' and link[0] in envec:\n",
    "        total += 1\n",
    "\n",
    "        #Get the most similar french word\n",
    "        most_similar = mostSimilar(envec[link[0]], frvec)\n",
    "        \n",
    "        # Add one to correct if the most similar french word is the same as the french title\n",
    "        if most_similar[0] == link[2]:\n",
    "            correct += 1\n",
    "\n",
    "# Calculate the accuracy\n",
    "accuracy = correct / total\n",
    "\n",
    "print(\"Baseline Accuracy: \" + str(baseline_accuracy)) \n",
    "print(\"Accuracy: \" + str(accuracy))\n"
   ]
  },
  {
   "cell_type": "markdown",
   "metadata": {
    "colab_type": "text",
    "id": "7hqd1buq-OEo"
   },
   "source": [
    "**TODO**: Compute accuracy and baseline (identity function) acccuracy for Englsih and another language besides French. Although the baseline will be lower for languages not written in the Roman alphabet (i.e., Arabic or Chinese), there are still many articles in those languages with headwords written in Roman characters."
   ]
  },
  {
   "cell_type": "code",
   "execution_count": 26,
   "metadata": {
    "colab": {},
    "colab_type": "code",
    "id": "ZjnKtHya-jmj"
   },
   "outputs": [
    {
     "name": "stdout",
     "output_type": "stream",
     "text": [
      "Baseline Accuracy: 0.5173403193612774\n",
      "Accuracy: 0.5432884231536926\n"
     ]
    }
   ],
   "source": [
    "## TODO: Compute English-X Wikipedia retrieval accuracy.\n",
    "\n",
    "#Initialize the accuracy variables\n",
    "accuracy = 0\n",
    "baselineAccuracy = 0\n",
    "\n",
    "#Initialize variables to calulate the baseline accuracy\n",
    "baseline_correct = 0\n",
    "baseline_total = 0\n",
    "\n",
    "# Loop through all of the spanish links\n",
    "for link in links:\n",
    "    if link[1] == 'es':\n",
    "        baseline_total += 1\n",
    "        \n",
    "        # Add one to the baseline correct if the english title is the same as the spanish title\n",
    "        if link[0] == link[2]:\n",
    "            baseline_correct += 1\n",
    "\n",
    "# Calculate the baseline accuracy\n",
    "baseline_accuracy = baseline_correct / baseline_total\n",
    "\n",
    "#Initialize variables to calulate the accuracy\n",
    "correct = 0\n",
    "total = 0\n",
    "\n",
    "# Loop through all of the english-spanish links that are in the english embeddings\n",
    "for link in links:\n",
    "    if link[1] == 'es' and link[0] in envec:\n",
    "        total += 1\n",
    "        \n",
    "        #Get the most similar spanish word\n",
    "        most_similar = mostSimilar(envec[link[0]], esvec)\n",
    "        \n",
    "        # Add one to the correct if the most similar spanish word is the same as the spanish title\n",
    "        if most_similar[0] == link[2]:\n",
    "            correct += 1\n",
    "\n",
    "# Calculate the accuracy            \n",
    "accuracy = correct / total\n",
    "\n",
    "print(\"Baseline Accuracy: \" + str(baseline_accuracy)) \n",
    "print(\"Accuracy: \" + str(accuracy))\n"
   ]
  },
  {
   "cell_type": "markdown",
   "metadata": {
    "colab_type": "text",
    "id": "E6z01sufFPJh"
   },
   "source": [
    "Further evaluation, if you are interested, could involve looking at the $k$ nearest neighbors of each English term to compute \"recall at 10\" or \"mean reciprocal rank at 10\"."
   ]
  }
 ],
 "metadata": {
  "colab": {
   "include_colab_link": true,
   "name": "CrossLanguageEmbeddings.ipynb",
   "provenance": []
  },
  "kernelspec": {
   "display_name": "Python 3",
   "language": "python",
   "name": "python3"
  },
  "language_info": {
   "codemirror_mode": {
    "name": "ipython",
    "version": 3
   },
   "file_extension": ".py",
   "mimetype": "text/x-python",
   "name": "python",
   "nbconvert_exporter": "python",
   "pygments_lexer": "ipython3",
   "version": "3.7.3"
  }
 },
 "nbformat": 4,
 "nbformat_minor": 1
}
