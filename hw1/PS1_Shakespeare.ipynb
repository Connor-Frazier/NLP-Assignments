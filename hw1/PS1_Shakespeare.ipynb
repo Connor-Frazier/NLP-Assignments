{
 "cells": [
  {
   "cell_type": "markdown",
   "metadata": {
    "colab_type": "text",
    "id": "view-in-github"
   },
   "source": [
    "<a href=\"https://colab.research.google.com/github/mutherr/CS6120-PS1/blob/master/PS1_Shakespeare.ipynb\" target=\"_parent\"><img src=\"https://colab.research.google.com/assets/colab-badge.svg\" alt=\"Open In Colab\"/></a>"
   ]
  },
  {
   "cell_type": "markdown",
   "metadata": {
    "colab_type": "text",
    "id": "ghmXbcymaHxC"
   },
   "source": [
    "In this experiment, you will train models to distringuish examples of two different genres of Shakespeare's plays: comedies and tragedies. (We'll ignore the histories, sonnets, etc.) Since he died four hundred years ago, Shakespeare has not written any more plays—although scraps of various other works have come to light. We are not, therefore, interested in building models simply to help categorize an unbounded stream of future documents, as we might be in other applications of text classification; rather, we are interested in what a classifier might have to tell us about what we mean by the terms “comedy” and “tragedy”.\n",
    "\n",
    "You will start by copying and running your `createBasicFeatures` function from the experiment with movie reviews. Do the features the classifier focuses on tell you much about comedy and tragedy in general?\n",
    "\n",
    "You will then implement another featurization function `createInterestingFeatures`, which will focus on only those features you think are informative for distinguishing between comedy and tragedy. Accuracy on leave-one-out cross-validation may go up, but it more important to look at the features given the highest weight by the classifier. Interpretability in machine learning, of course, may be harder to define than accuracy—although accuracy at some tasks such as summarization is hard enoough."
   ]
  },
  {
   "cell_type": "code",
   "execution_count": 243,
   "metadata": {
    "colab": {},
    "colab_type": "code",
    "id": "AdVS67_HNRmW"
   },
   "outputs": [],
   "source": [
    "import json\n",
    "import requests\n",
    "import re\n",
    "import nltk\n",
    "from sklearn.feature_extraction.text import CountVectorizer\n",
    "from sklearn.linear_model import LogisticRegression\n",
    "from sklearn.model_selection import cross_validate,LeaveOneOut,KFold\n",
    "import numpy as np"
   ]
  },
  {
   "cell_type": "code",
   "execution_count": 244,
   "metadata": {
    "colab": {},
    "colab_type": "code",
    "id": "PzjMY8fYQbB6"
   },
   "outputs": [],
   "source": [
    "#read in the shakespeare corpus\n",
    "def readShakespeare():\n",
    "  raw = requests.get(\"https://raw.githubusercontent.com/mutherr/CS6120-PS1-data/master/shakespeare_plays.json\").text.strip()\n",
    "  corpus = [json.loads(line) for line in raw.split(\"\\n\")]\n",
    "\n",
    "  #remove histories from the data, as we're only working with tragedies and comedies\n",
    "  corpus = [entry for entry in corpus if entry[\"genre\"] != \"history\"]\n",
    "  return corpus"
   ]
  },
  {
   "cell_type": "markdown",
   "metadata": {
    "colab_type": "text",
    "id": "v0r3oL3TdHIU"
   },
   "source": [
    "This is where you will implement two functions to featurize the data:"
   ]
  },
  {
   "cell_type": "code",
   "execution_count": 245,
   "metadata": {
    "colab": {},
    "colab_type": "code",
    "id": "039fPQcF7OkN"
   },
   "outputs": [],
   "source": [
    "#NB: The current contents are for testing only\n",
    "#This function should return: \n",
    "#  -a sparse numpy matrix of document features\n",
    "#  -a list of the correct genre for each document\n",
    "#  -a list of the vocabulary used by the features, such that the ith term of the\n",
    "#    list is the word whose counts appear in the ith column of the matrix. \n",
    "\n",
    "# This function should create a feature representation using all tokens that\n",
    "# contain an alphabetic character.\n",
    "def createBasicFeatures(corpus):\n",
    "    #Creating return variables\n",
    "    genres = []\n",
    "    texts = []\n",
    "    vocab = None\n",
    "    \n",
    "    #Loop through the reviews in the corpus\n",
    "    for example in corpus:\n",
    "        #Save the label for later\n",
    "        genres.append(example['genre'])\n",
    "        #Clean the text\n",
    "        text = re.sub(r'\\d', \"\", example['text'].replace(\"_\", \"\"))\n",
    "        #Create array from the review text\n",
    "        text = nltk.word_tokenize(text)\n",
    "\n",
    "        #String to reassamble the review into a string\n",
    "        text_string = \"\"\n",
    "        #Loop through all the remaining words in the text and remove punctuation\n",
    "        for word in text:\n",
    "            if word.isalpha():\n",
    "                text_string += word.lower() + \" \"\n",
    "\n",
    "        #Reassemble the review text\n",
    "        texts.append(text_string)\n",
    "    \n",
    "    #Creat a sparse matric from the reviews    \n",
    "    vectorizer = CountVectorizer(binary=False, analyzer = 'word', token_pattern=r'\\b\\w+\\b')\n",
    "    texts = vectorizer.fit_transform(texts).toarray()\n",
    "\n",
    "    #Get the vocab from the vectorizer\n",
    "    vocab = vectorizer.get_feature_names()\n",
    "      \n",
    "    return texts,genres,vocab\n",
    "\n",
    "# This function can add other features you want that help classification\n",
    "# accuracy, such as bigrams, word prefixes and suffixes, etc.\n",
    "def createInterestingFeatures(corpus):\n",
    "    #Creating return variables\n",
    "    genres = []\n",
    "    texts = []\n",
    "    vocab = []\n",
    "    \n",
    "    #Polarity scores dictionary\n",
    "    polarity_scores_dict = {}\n",
    "    #Part of speech dictionary\n",
    "    pos_dict = {}\n",
    "    \n",
    "    #Loop through the examples in the corpus\n",
    "    for example in corpus:\n",
    "        #Save the genre label for the play\n",
    "        genres.append(example['genre'])\n",
    "        \n",
    "        #Clean text and split words into array\n",
    "        text = re.sub(r'\\d', \"\", example['text'].replace(\"_\", \"\"))\n",
    "        text = nltk.word_tokenize(text)\n",
    "        \n",
    "        #Get the parts of speech for all words \n",
    "        #Save them in a dictionary\n",
    "        pos_tagged = nltk.pos_tag(text)\n",
    "        for tagged_word in pos_tagged:\n",
    "            if tagged_word[0] not in pos_dict:\n",
    "                pos_dict[tagged_word[0]] = tagged_word[1]\n",
    "                \n",
    "        #String to reassamble the play\n",
    "        text_string = \"\"\n",
    "        for word in text:\n",
    "            #If word is not punctuation\n",
    "            if word.isalpha():\n",
    "                #Add the word to the reassamble variable\n",
    "                text_string += word.lower() + \" \"\n",
    "                #If the word is not added to the polarity score dictionary\n",
    "                #Else add to the score of the label\n",
    "                if word not in polarity_scores_dict:\n",
    "                    polarity_scores_dict[word] = {}\n",
    "                    if example['genre'] == 'comedy':\n",
    "                        polarity_scores_dict[word]['negative_count'] = 1\n",
    "                        polarity_scores_dict[word]['positive_count'] = 0\n",
    "                    else:\n",
    "                        polarity_scores_dict[word]['positive_count'] = 1\n",
    "                        polarity_scores_dict[word]['negative_count'] = 0\n",
    "                else:\n",
    "                    if example['genre'] == 'comedy':\n",
    "                        polarity_scores_dict[word]['negative_count'] += 1\n",
    "                    else:\n",
    "                        polarity_scores_dict[word]['positive_count'] += 1\n",
    "        #Add the single play to the texts list\n",
    "        texts.append(text_string)\n",
    "    #Loop through the words in the polarity score dictionary    \n",
    "    for key, value in polarity_scores_dict.items():\n",
    "        word_neg_count = value['negative_count']\n",
    "        word_pos_count = value['positive_count']\n",
    "        \n",
    "        #smoothing for the calculations\n",
    "        if word_neg_count == 0:\n",
    "            word_neg_count = 1\n",
    "        elif word_pos_count == 0:\n",
    "            word_pos_count = 1\n",
    "        \n",
    "        #Calcualte the the polarity scores so that the ratio is positive    \n",
    "        if word_neg_count > word_pos_count:\n",
    "            polarity_score = word_neg_count/word_pos_count\n",
    "        else:\n",
    "            polarity_score = word_pos_count/word_neg_count\n",
    "        \n",
    "        #Add the word to the vocab list based on palarity score and part of speech\n",
    "        if polarity_score > 2 and pos_dict[key] != 'NN' and pos_dict[key] != 'NNS' and pos_dict[key] != 'NNP' and pos_dict[key] != 'NNPS':\n",
    "            vocab.append(key)\n",
    "            \n",
    "    #Create the vectorizer with the vacab list and create the matrix        \n",
    "    vectorizer = CountVectorizer(binary=True, analyzer = 'word', token_pattern=r'\\b\\w+\\b', vocabulary=vocab)\n",
    "    texts = vectorizer.fit_transform(texts).toarray()\n",
    "    \n",
    "    #Get the final vocab list from the vectorizer\n",
    "    vocab = vectorizer.get_feature_names()\n",
    "      \n",
    "    return texts,genres,vocab"
   ]
  },
  {
   "cell_type": "code",
   "execution_count": 246,
   "metadata": {
    "colab": {},
    "colab_type": "code",
    "id": "KfTBqBltXe7Y"
   },
   "outputs": [],
   "source": [
    "#given a numpy matrix representation of the features for the training set, the \n",
    "# vector of true classes for each example, and the vocabulary as described \n",
    "# above, this computes the accuracy of the model using leave one out cross \n",
    "# validation and reports the most indicative features for each class\n",
    "def evaluateModel(X,y,vocab,penalty=\"l1\"):\n",
    "  #create and fit the model\n",
    "  model = LogisticRegression(penalty=penalty,solver=\"liblinear\")\n",
    "  results = cross_validate(model,X,y,cv=LeaveOneOut())\n",
    "  \n",
    "  #determine the average accuracy\n",
    "  scores = results[\"test_score\"]\n",
    "  avg_score = sum(scores)/len(scores)\n",
    "  \n",
    "  #determine the most informative features\n",
    "  # this requires us to fit the model to everything, because we need a\n",
    "  # single model to draw coefficients from, rather than 26\n",
    "  model.fit(X,y)\n",
    "  neg_class_prob_sorted = model.coef_[0, :].argsort()\n",
    "  pos_class_prob_sorted = (-model.coef_[0, :]).argsort()\n",
    "\n",
    "  termsToTake = 20\n",
    "  pos_indicators = [vocab[i] for i in neg_class_prob_sorted[:termsToTake]]\n",
    "  neg_indicators = [vocab[i] for i in pos_class_prob_sorted[:termsToTake]]\n",
    "\n",
    "  return avg_score,pos_indicators,neg_indicators\n",
    "\n",
    "def runEvaluation(X,y,vocab):\n",
    "  print(\"----------L1 Norm-----------\")\n",
    "  avg_score,pos_indicators,neg_indicators = evaluateModel(X,y,vocab,\"l1\")\n",
    "  print(\"The model's average accuracy is %f\"%avg_score)\n",
    "  print(\"The most informative terms for pos are: %s\"%pos_indicators)\n",
    "  print(\"The most informative terms for neg are: %s\"%neg_indicators)\n",
    "  #this call will fit a model with L2 normalization\n",
    "  print(\"----------L2 Norm-----------\")\n",
    "  avg_score,pos_indicators,neg_indicators = evaluateModel(X,y,vocab,\"l2\")\n",
    "  print(\"The model's average accuracy is %f\"%avg_score)\n",
    "  print(\"The most informative terms for pos are: %s\"%pos_indicators)\n",
    "  print(\"The most informative terms for neg are: %s\"%neg_indicators)\n",
    "  "
   ]
  },
  {
   "cell_type": "code",
   "execution_count": 247,
   "metadata": {
    "colab": {},
    "colab_type": "code",
    "id": "mtlbg_aqdcW_"
   },
   "outputs": [],
   "source": [
    "corpus = readShakespeare()"
   ]
  },
  {
   "cell_type": "markdown",
   "metadata": {
    "colab_type": "text",
    "id": "vpCqIhiqdhen"
   },
   "source": [
    "Run the following to train and evaluate two models with basic features:"
   ]
  },
  {
   "cell_type": "code",
   "execution_count": 248,
   "metadata": {
    "colab": {},
    "colab_type": "code",
    "id": "4IpJ7PKjvc8I"
   },
   "outputs": [
    {
     "name": "stdout",
     "output_type": "stream",
     "text": [
      "----------L1 Norm-----------\n",
      "The model's average accuracy is 0.615385\n",
      "The most informative terms for pos are: ['you', 'duke', 'helena', 'prospero', 'i', 'sir', 'leontes', 'a', 'privately', 'president', 'preserving', 'preservers', 'preserver', 'preserved', 'preserve', 'press', 'preservative', 'preserv', 'presents', 'presentment']\n",
      "The most informative terms for neg are: ['him', 's', 'iago', 'imogen', 'o', 'brutus', 'lear', 'ham', 'and', 'rom', 'the', 'president', 'preserving', 'preservers', 'preserver', 'pretia', 'pretense', 'press', 'preserve', 'preservative']\n",
      "----------L2 Norm-----------\n",
      "The model's average accuracy is 0.769231\n",
      "The most informative terms for pos are: ['i', 'you', 'duke', 'prospero', 'a', 'helena', 'your', 'antonio', 'sir', 'leontes', 'hermia', 'for', 'lysander', 'ariel', 'sebastian', 'demetrius', 'camillo', 'stephano', 'me', 'parolles']\n",
      "The most informative terms for neg are: ['iago', 'othello', 's', 'him', 'imogen', 'what', 'lear', 'brutus', 'his', 'cassio', 'o', 'ham', 'our', 'desdemona', 'rom', 'romeo', 'posthumus', 'nurse', 'caesar', 'thy']\n"
     ]
    }
   ],
   "source": [
    "X,y,vocab = createBasicFeatures(corpus)\n",
    "runEvaluation(X, y, vocab)"
   ]
  },
  {
   "cell_type": "markdown",
   "metadata": {
    "colab_type": "text",
    "id": "_FmW9F6ZdoyM"
   },
   "source": [
    "Run the following to train and evaluate two models with features that are interesting for distinguishing comedy and tragedy:"
   ]
  },
  {
   "cell_type": "code",
   "execution_count": 249,
   "metadata": {
    "colab": {},
    "colab_type": "code",
    "id": "BW0Ajs2MdtIC"
   },
   "outputs": [
    {
     "name": "stdout",
     "output_type": "stream",
     "text": [
      "----------L1 Norm-----------\n",
      "The model's average accuracy is 0.923077\n",
      "The most informative terms for pos are: ['jest', 'oaths', 'dulcet', 'conclusion', 'carrying', 'ber', 'castle', 'elsinore', 'ophelia', 'norway', 'fortinbras', 'francisco', 'bernardo', 'osric', 'guildenstern', 'nephew', 'lofty', 'forfend', 'abhorred', 'scorns']\n",
      "The most informative terms for neg are: ['slain', 'warlike', 'rise', 'fierce', 'ope', 'dreamt', 'parolles', 'hor', 'carefully', 'fran', 'ber', 'castle', 'elsinore', 'ophelia', 'norway', 'fortinbras', 'osric', 'bernardo', 'guildenstern', 'nephew']\n",
      "----------L2 Norm-----------\n",
      "The model's average accuracy is 1.000000\n",
      "The most informative terms for pos are: ['jest', 'oaths', 'shallow', 'conclusion', 'marvellous', 'signior', 'forsworn', 'lying', 'dote', 'impossible', 'lower', 'reasonable', 'studied', 'fancy', 'afterward', 'conceal', 'advis', 'adverse', 'forswear', 'sheep']\n",
      "The most informative terms for neg are: ['slain', 'fierce', 'dreamt', 'warlike', 'domestic', 'fighting', 'climb', 'marching', 'shakes', 'latest', 'hew', 'redress', 'conquest', 'throws', 'slaughter', 'meanest', 'opens', 'tasted', 'tower', 'thunders']\n"
     ]
    }
   ],
   "source": [
    "X,y,vocab = createInterestingFeatures(corpus)\n",
    "runEvaluation(X, y, vocab)"
   ]
  },
  {
   "cell_type": "code",
   "execution_count": null,
   "metadata": {
    "colab": {},
    "colab_type": "code",
    "id": "1iHudrPb5NPY"
   },
   "outputs": [],
   "source": []
  }
 ],
 "metadata": {
  "colab": {
   "collapsed_sections": [],
   "include_colab_link": true,
   "name": "PS1-Shakespeare.ipynb",
   "provenance": []
  },
  "kernelspec": {
   "display_name": "Python 3",
   "language": "python",
   "name": "python3"
  },
  "language_info": {
   "codemirror_mode": {
    "name": "ipython",
    "version": 3
   },
   "file_extension": ".py",
   "mimetype": "text/x-python",
   "name": "python",
   "nbconvert_exporter": "python",
   "pygments_lexer": "ipython3",
   "version": "3.7.3"
  }
 },
 "nbformat": 4,
 "nbformat_minor": 1
}
