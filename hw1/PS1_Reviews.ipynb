{
 "cells": [
  {
   "cell_type": "markdown",
   "metadata": {
    "colab_type": "text",
    "id": "view-in-github"
   },
   "source": [
    "<a href=\"https://colab.research.google.com/github/mutherr/CS6120-PS1/blob/master/PS1_Reviews.ipynb\" target=\"_parent\"><img src=\"https://colab.research.google.com/assets/colab-badge.svg\" alt=\"Open In Colab\"/></a>"
   ]
  },
  {
   "cell_type": "markdown",
   "metadata": {
    "colab_type": "text",
    "id": "Jc2R3x6QSIFi"
   },
   "source": [
    "In this experiment, you will explore the accuracy of sentiment classificaiton using different feature representations of text documents.\n",
    "\n",
    "First, you will implement `createBasicFeatures`, which creates a sparse matrix representation of a collection of documents. For this exercise, you should have a feature for each word containing at least one alphabetic character. You may use the `numpy` and `sklearn` packages to help with implementing a sparse matrix.\n",
    "\n",
    "Then, you will implement `createFancyFeatures`, which can specify at any other features you choose to help improve performance on the classification task.\n",
    "\n",
    "The two code blocks at the end train and evaluate two models—logistic regression with L1 and L2 regularization—using your featurization functions. Besides held-out classification accuracy with 10-fold cross-validation, you will also see the features in each class given high weights by the model."
   ]
  },
  {
   "cell_type": "code",
   "execution_count": 129,
   "metadata": {
    "colab": {},
    "colab_type": "code",
    "id": "AdVS67_HNRmW"
   },
   "outputs": [],
   "source": [
    "import json\n",
    "import requests\n",
    "import re\n",
    "import nltk\n",
    "from sklearn.feature_extraction.text import CountVectorizer\n",
    "from sklearn.linear_model import LogisticRegression\n",
    "from sklearn.model_selection import cross_validate,LeaveOneOut,KFold\n",
    "import numpy as np"
   ]
  },
  {
   "cell_type": "code",
   "execution_count": 130,
   "metadata": {
    "cellView": "both",
    "colab": {},
    "colab_type": "code",
    "id": "PzjMY8fYQbB6"
   },
   "outputs": [],
   "source": [
    "# read in the movie review corpus\n",
    "def readReviews():\n",
    "  raw = requests.get(\"https://raw.githubusercontent.com/mutherr/CS6120-PS1-data/master/cornell_reviews.json\").text.strip()\n",
    "  corpus = [json.loads(line) for line in raw.split(\"\\n\")]\n",
    "\n",
    "  return corpus"
   ]
  },
  {
   "cell_type": "markdown",
   "metadata": {
    "colab_type": "text",
    "id": "Qvd3I95FT01D"
   },
   "source": [
    "This is where you will implement two functions to featurize the data."
   ]
  },
  {
   "cell_type": "code",
   "execution_count": 131,
   "metadata": {
    "colab": {},
    "colab_type": "code",
    "id": "039fPQcF7OkN"
   },
   "outputs": [],
   "source": [
    "#NB: The current contents are for testing only\n",
    "#This function should return: \n",
    "#  -a sparse numpy matrix of document features\n",
    "#  -a list of the correct class for each document\n",
    "#  -a list of the vocabulary used by the features, such that the ith term of the\n",
    "#    list is the word whose counts appear in the ith column of the matrix. \n",
    "\n",
    "# This function should create a feature representation using all tokens that\n",
    "# contain an alphabetic character.\n",
    "def createBasicFeatures(corpus):\n",
    "    #Creating return variables\n",
    "    classes = []\n",
    "    texts = []\n",
    "    vocab = None\n",
    "    \n",
    "    #Loop through the reviews in the corpus\n",
    "    for example in corpus:\n",
    "        #Save the label for later\n",
    "        classes.append(example['class'])\n",
    "        #Clean the text\n",
    "        text = re.sub(r'\\d', \"\", example['text'].replace(\"_\", \"\"))\n",
    "        #Create array from the review text\n",
    "        text = nltk.word_tokenize(text)\n",
    "\n",
    "        #String to reassamble the review into a string\n",
    "        text_string = \"\"\n",
    "        #Loop through all the remaining words in the text and remove punctuation\n",
    "        for word in text:\n",
    "            if word.isalpha():\n",
    "                text_string += word.lower() + \" \"\n",
    "\n",
    "        #Reassemble the review text\n",
    "        texts.append(text_string)\n",
    "    \n",
    "    #Creat a sparse matrix from the reviews    \n",
    "    vectorizer = CountVectorizer(binary=False, analyzer = 'word', token_pattern=r'\\b\\w+\\b')\n",
    "    texts = vectorizer.fit_transform(texts).toarray()\n",
    "\n",
    "    #Get the vocab from the vectorizer\n",
    "    vocab = vectorizer.get_feature_names()\n",
    "      \n",
    "    return texts,classes,vocab\n",
    "\n",
    "# This function can add other features you want that help classification\n",
    "# accuracy, such as bigrams, word prefixes and suffixes, etc.\n",
    "def createFancyFeatures(corpus):\n",
    "    #Creating return variables\n",
    "    classes = []\n",
    "    texts = []\n",
    "    vocab = []\n",
    "    \n",
    "    #Polarity scores dictionary\n",
    "    polarity_scores_dict = {}\n",
    "    \n",
    "    #Loop through the examples in the corpus\n",
    "    for example in corpus:\n",
    "        #Save class label for review\n",
    "        classes.append(example['class'])\n",
    "        \n",
    "        #Clean text and split words into array\n",
    "        text = re.sub(r'\\d', \"\", example['text'].replace(\"_\", \"\"))\n",
    "        text = nltk.word_tokenize(text)\n",
    "\n",
    "        #String to reassamble the review into a string\n",
    "        text_string = \"\"\n",
    "        \n",
    "        #Loop through the words in the text\n",
    "        for word in text:\n",
    "            #If word is not punctuation\n",
    "            if word.isalpha():\n",
    "                #Add the word to the reassamble variable\n",
    "                text_string += word.lower() + \" \"\n",
    "                #If the word is not added to the polarity score dictionary\n",
    "                #Else add to the score of the label\n",
    "                if word not in polarity_scores_dict:\n",
    "                    polarity_scores_dict[word] = {}\n",
    "                    if example['class'] == 'neg':\n",
    "                        polarity_scores_dict[word]['negative_count'] = 1\n",
    "                        polarity_scores_dict[word]['positive_count'] = 0\n",
    "                    else:\n",
    "                        polarity_scores_dict[word]['positive_count'] = 1\n",
    "                        polarity_scores_dict[word]['negative_count'] = 0\n",
    "                else:\n",
    "                    if example['class'] == 'neg':\n",
    "                        polarity_scores_dict[word]['negative_count'] += 1\n",
    "                    else:\n",
    "                        polarity_scores_dict[word]['positive_count'] += 1\n",
    "\n",
    "        #Add the single review texts to the texts list\n",
    "        texts.append(text_string)\n",
    "        \n",
    "    #Loop through the words in the polarity score dictionary    \n",
    "    for key, value in polarity_scores_dict.items():\n",
    "        word_neg_count = value['negative_count']\n",
    "        word_pos_count = value['positive_count']\n",
    "        \n",
    "        #smoothing for the calculations\n",
    "        if word_neg_count == 0:\n",
    "            word_neg_count = 1\n",
    "        elif word_pos_count == 0:\n",
    "            word_pos_count = 1\n",
    "            \n",
    "        #Calcualte the the polarity scores so that the ratio is positive\n",
    "        if word_neg_count > word_pos_count:\n",
    "            polarity_score = word_neg_count/word_pos_count\n",
    "            value['polarity_score'] = polarity_score\n",
    "        else:\n",
    "            polarity_score = word_pos_count/word_neg_count\n",
    "            value['polarity_score'] = polarity_score\n",
    "\n",
    "        #Add every word to the vocab list\n",
    "        vocab.append(key)\n",
    "    \n",
    "    #Create the sparse matrix with a temporary blank row and remove it\n",
    "    tempRow = []\n",
    "    for vocab_word in vocab:\n",
    "        tempRow.append(0)\n",
    "\n",
    "    matrix = np.array([tempRow])\n",
    "    matrix = np.delete(matrix, 0, axis=0)\n",
    "    \n",
    "    #Loop through all of the reviews in the corpus\n",
    "    for example in corpus:\n",
    "        #Clean text and split words into array\n",
    "        text = re.sub(r'\\d', \"\", example['text'].replace(\"_\", \"\"))\n",
    "        text = nltk.word_tokenize(text)\n",
    "        #Create the matrix row for the sentence\n",
    "        matrixRow = []\n",
    "        for vocab_word in vocab:\n",
    "            matrixRow.append(0)\n",
    "        #For each word in the text, set the matrix row value to the word \n",
    "        #polarity score at the index of the word in the vocab list    \n",
    "        for word in text:\n",
    "            if word.isalpha() and vocab.count(word) != 0:\n",
    "                matrixRow[vocab.index(word)] = polarity_scores_dict[word]['polarity_score']\n",
    "        \n",
    "        #Add the row to the final matrix\n",
    "        matrix = np.append(matrix, [matrixRow], axis=0)\n",
    "    \n",
    "    #Set the texts variable to the created matrix\n",
    "    texts = matrix\n",
    "    \n",
    "    return texts,classes,vocab"
   ]
  },
  {
   "cell_type": "code",
   "execution_count": 132,
   "metadata": {
    "colab": {},
    "colab_type": "code",
    "id": "KfTBqBltXe7Y"
   },
   "outputs": [],
   "source": [
    "#given a numpy matrix representation of the features for the training set, the \n",
    "# vector of true classes for each example, and the vocabulary as described \n",
    "# above, this computes the accuracy of the model using leave one out cross \n",
    "# validation and reports the most indicative features for each class\n",
    "\n",
    "def evaluateModel(X,y,vocab,penalty=\"l1\"):\n",
    "  #create and fit the model\n",
    "  model = LogisticRegression(penalty=penalty,solver=\"liblinear\")\n",
    "  results = cross_validate(model,X,y,cv=KFold(n_splits=10, shuffle=True, random_state=1))\n",
    "  \n",
    "  #determine the average accuracy\n",
    "  scores = results[\"test_score\"]\n",
    "  avg_score = sum(scores)/len(scores)\n",
    "  \n",
    "  #determine the most informative features\n",
    "  # this requires us to fit the model to everything, because we need a\n",
    "  # single model to draw coefficients from, rather than 26\n",
    "  model.fit(X,y)\n",
    "  class0_weight_sorted = model.coef_[0, :].argsort()\n",
    "  class1_weight_sorted = (-model.coef_[0, :]).argsort()\n",
    "\n",
    "  termsToTake = 20\n",
    "  class0_indicators = [vocab[i] for i in class0_weight_sorted[:termsToTake]]\n",
    "  class1_indicators = [vocab[i] for i in class1_weight_sorted[:termsToTake]]\n",
    "\n",
    "  if model.classes_[0] == \"pos\":\n",
    "    return avg_score,class0_indicators,class1_indicators\n",
    "  else:\n",
    "    return avg_score,class1_indicators,class0_indicators\n",
    "\n",
    "def runEvaluation(X,y,vocab):\n",
    "  print(\"----------L1 Norm-----------\")\n",
    "  avg_score,pos_indicators,neg_indicators = evaluateModel(X,y,vocab,\"l1\")\n",
    "  print(\"The model's average accuracy is %f\"%avg_score)\n",
    "  print(\"The most informative terms for pos are: %s\"%pos_indicators)\n",
    "  print(\"The most informative terms for neg are: %s\"%neg_indicators)\n",
    "  #this call will fit a model with L2 normalization\n",
    "  print(\"----------L2 Norm-----------\")\n",
    "  avg_score,pos_indicators,neg_indicators = evaluateModel(X,y,vocab,\"l2\")\n",
    "  print(\"The model's average accuracy is %f\"%avg_score)\n",
    "  print(\"The most informative terms for pos are: %s\"%pos_indicators)\n",
    "  print(\"The most informative terms for neg are: %s\"%neg_indicators)"
   ]
  },
  {
   "cell_type": "code",
   "execution_count": 133,
   "metadata": {
    "colab": {},
    "colab_type": "code",
    "id": "VWWq5VgmECKV"
   },
   "outputs": [],
   "source": [
    "corpus = readReviews()"
   ]
  },
  {
   "cell_type": "markdown",
   "metadata": {
    "colab_type": "text",
    "id": "72OUet02TjBo"
   },
   "source": [
    "Run the following to train and evaluate two models using basic features:"
   ]
  },
  {
   "cell_type": "code",
   "execution_count": 134,
   "metadata": {
    "colab": {},
    "colab_type": "code",
    "id": "4IpJ7PKjvc8I"
   },
   "outputs": [
    {
     "name": "stdout",
     "output_type": "stream",
     "text": [
      "----------L1 Norm-----------\n",
      "The model's average accuracy is 0.821000\n",
      "The most informative terms for pos are: ['flaws', 'terrific', 'memorable', 'excellent', 'using', 'masterpiece', 'command', 'follows', 'perfectly', 'master', 'enjoyable', 'sherri', 'edge', 'strange', 'gas', 'fun', 'experiences', 'fantastic', 'entertaining', 'beavis']\n",
      "The most informative terms for neg are: ['waste', 'mess', 'worst', 'ridiculous', 'tedious', 'cheap', 'lame', 'awful', 'superior', 'unfortunately', 'write', 'boring', 'flat', 'bad', 'poor', 'terrible', 'jesse', 'designed', 'adam', 'headed']\n",
      "----------L2 Norm-----------\n",
      "The model's average accuracy is 0.833000\n",
      "The most informative terms for pos are: ['fun', 'excellent', 'back', 'great', 'quite', 'overall', 'perfectly', 'job', 'yet', 'well', 'terrific', 'memorable', 'american', 'true', 'seen', 'pulp', 'performances', 'using', 'follows', 'very']\n",
      "The most informative terms for neg are: ['bad', 'unfortunately', 'worst', 'nothing', 'waste', 'boring', 'only', 'reason', 'awful', 'script', 'plot', 'looks', 'poor', 'mess', 'supposed', 'should', 'ridiculous', 'women', 'lame', 'falls']\n"
     ]
    }
   ],
   "source": [
    "X,y,vocab = createBasicFeatures(corpus)\n",
    "runEvaluation(X, y, vocab)"
   ]
  },
  {
   "cell_type": "markdown",
   "metadata": {
    "colab_type": "text",
    "id": "4sjxLL2PTrJi"
   },
   "source": [
    "Run the following to train and evaluate two models using extended features:"
   ]
  },
  {
   "cell_type": "code",
   "execution_count": 135,
   "metadata": {
    "colab": {},
    "colab_type": "code",
    "id": "1iHudrPb5NPY"
   },
   "outputs": [
    {
     "name": "stdout",
     "output_type": "stream",
     "text": [
      "----------L1 Norm-----------\n",
      "The model's average accuracy is 0.879000\n",
      "The most informative terms for pos are: ['epic', 'fun', 'others', 'today', 'terrific', 'boards', 'frank', 'buffs', 'tool', 'blast', 'sullivan', 'flaws', 'job', 'hamilton', 'infectious', 'identify', 'seen', 'solid', 'succeeds', 'pace']\n",
      "The most informative terms for neg are: ['only', 'nothing', 'tedious', 'mess', 'should', 'designed', 'have', 'awful', 'anywhere', 'unfortunately', 'supposedly', 'adam', 'poor', 'attempt', 'plot', 'embarrassing', 'looks', 'metro', 'promising', 'cash']\n",
      "----------L2 Norm-----------\n",
      "The model's average accuracy is 0.937000\n",
      "The most informative terms for pos are: ['terrific', 'memorable', 'fun', 'others', 'very', 'lang', 'seen', 'refreshing', 'excellent', 'today', 'job', 'hilarious', 'most', 'wonderfully', 'enjoyed', 'allows', 'definitely', 'class', 'overall', 'breathtaking']\n",
      "The most informative terms for neg are: ['awful', 'poor', 'nothing', 'waste', 'only', 'mess', 'supposed', 'worst', 'should', 'unfortunately', 'plot', 'boring', 'excruciatingly', 'wasted', 'bad', 'ridiculous', 'script', 'have', 'unimaginative', 'reason']\n"
     ]
    }
   ],
   "source": [
    "X,y,vocab = createFancyFeatures(corpus)\n",
    "runEvaluation(X, y, vocab)"
   ]
  },
  {
   "cell_type": "code",
   "execution_count": null,
   "metadata": {},
   "outputs": [],
   "source": []
  }
 ],
 "metadata": {
  "colab": {
   "collapsed_sections": [],
   "include_colab_link": true,
   "name": "PS1-Reviews.ipynb",
   "provenance": []
  },
  "kernelspec": {
   "display_name": "Python 3",
   "language": "python",
   "name": "python3"
  },
  "language_info": {
   "codemirror_mode": {
    "name": "ipython",
    "version": 3
   },
   "file_extension": ".py",
   "mimetype": "text/x-python",
   "name": "python",
   "nbconvert_exporter": "python",
   "pygments_lexer": "ipython3",
   "version": "3.7.3"
  }
 },
 "nbformat": 4,
 "nbformat_minor": 1
}
